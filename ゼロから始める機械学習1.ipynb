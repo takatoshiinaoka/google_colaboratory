{
  "nbformat": 4,
  "nbformat_minor": 0,
  "metadata": {
    "colab": {
      "name": "ゼロから始める機械学習1.ipynb",
      "provenance": [],
      "authorship_tag": "ABX9TyM/71g0IE7fyiYxEZjZ7V2F",
      "include_colab_link": true
    },
    "kernelspec": {
      "name": "python3",
      "display_name": "Python 3"
    },
    "language_info": {
      "name": "python"
    }
  },
  "cells": [
    {
      "cell_type": "markdown",
      "metadata": {
        "id": "view-in-github",
        "colab_type": "text"
      },
      "source": [
        "<a href=\"https://colab.research.google.com/github/takatoshiinaoka/google_colaboratory/blob/main/%E3%82%BC%E3%83%AD%E3%81%8B%E3%82%89%E5%A7%8B%E3%82%81%E3%82%8B%E6%A9%9F%E6%A2%B0%E5%AD%A6%E7%BF%921.ipynb\" target=\"_parent\"><img src=\"https://colab.research.google.com/assets/colab-badge.svg\" alt=\"Open In Colab\"/></a>"
      ]
    },
    {
      "cell_type": "markdown",
      "source": [
        "- [ゼロから始める機械学習 #1](https://qiita.com/t-baba-11/items/054bda7060952fc6bf74)\n",
        "- [ゼロから始める機械学習 #2](https://qiita.com/t-baba-11/items/6dc947e3f3b33485ccf6)"
      ],
      "metadata": {
        "id": "y-FVJA6CGU-E"
      }
    },
    {
      "cell_type": "markdown",
      "source": [
        "----\n",
        "## Google Driveと接続"
      ],
      "metadata": {
        "id": "fgu-O-fhI-Kj"
      }
    },
    {
      "cell_type": "code",
      "source": [
        "from google.colab import drive\n",
        "drive.mount('/content/drive')"
      ],
      "metadata": {
        "colab": {
          "base_uri": "https://localhost:8080/"
        },
        "id": "qPGgYgs8jybl",
        "outputId": "6b145587-7ec3-4cb5-8280-b4b44975aac0"
      },
      "execution_count": null,
      "outputs": [
        {
          "output_type": "stream",
          "name": "stdout",
          "text": [
            "Drive already mounted at /content/drive; to attempt to forcibly remount, call drive.mount(\"/content/drive\", force_remount=True).\n"
          ]
        }
      ]
    },
    {
      "cell_type": "markdown",
      "source": [
        "## モジュールのインポート\n"
      ],
      "metadata": {
        "id": "-diamVjyJtgM"
      }
    },
    {
      "cell_type": "code",
      "source": [
        "import pandas as pd\n",
        "import seaborn as sns"
      ],
      "metadata": {
        "id": "nu0kQ62GKPxw"
      },
      "execution_count": null,
      "outputs": []
    },
    {
      "cell_type": "markdown",
      "source": [
        "## データの読み込み"
      ],
      "metadata": {
        "id": "aS76Q3SYI67z"
      }
    },
    {
      "cell_type": "code",
      "source": [
        "raw_dataset = pd.read_csv(\"/content/drive/MyDrive/Colab Notebooks/dataset/data/train/n10degC_Cycle_1_Pan18650PF.csv\")\n",
        "df = raw_dataset.copy()\n",
        "print(df)"
      ],
      "metadata": {
        "colab": {
          "base_uri": "https://localhost:8080/"
        },
        "id": "mhdkrv5-jzEC",
        "outputId": "362b42d9-e23d-4159-917a-bb0308d8dd8b"
      },
      "execution_count": null,
      "outputs": [
        {
          "output_type": "stream",
          "name": "stdout",
          "text": [
            "                   TimeStamp  Voltage  Current       Ah  Wh     Power  \\\n",
            "0      6/10/2017 11:25:41 AM  4.10596 -1.80146 -0.00005 NaN -7.396723   \n",
            "1      6/10/2017 11:25:41 AM  4.01524 -1.84964 -0.00010 NaN -7.426749   \n",
            "2      6/10/2017 11:25:41 AM  3.95799 -1.88639 -0.00015 NaN -7.466313   \n",
            "3      6/10/2017 11:25:41 AM  3.90973 -1.91824 -0.00021 NaN -7.499800   \n",
            "4      6/10/2017 11:25:41 AM  3.86920 -1.94519 -0.00026 NaN -7.526329   \n",
            "...                      ...      ...      ...      ...  ..       ...   \n",
            "57229   6/10/2017 1:01:15 PM  3.13705 -0.34625 -2.02998 NaN -1.086204   \n",
            "57230   6/10/2017 1:01:15 PM  3.14863 -0.34380 -2.02999 NaN -1.082499   \n",
            "57231   6/10/2017 1:01:15 PM  3.15828 -0.34298 -2.03000 NaN -1.083227   \n",
            "57232   6/10/2017 1:01:16 PM  3.16536 -0.34135 -2.03001 NaN -1.080496   \n",
            "57233   6/10/2017 1:01:16 PM  3.18479  0.00000 -2.03001 NaN  0.000000   \n",
            "\n",
            "       Battery_Temp_degC         Time  Chamber_Temp_degC        SOC  \\\n",
            "0             -10.158136     0.000000                -10  99.998276   \n",
            "1             -10.158136     0.102001                -10  99.996552   \n",
            "2             -10.158136     0.197002                -10  99.994828   \n",
            "3             -10.158136     0.300008                -10  99.992759   \n",
            "4             -10.158136     0.398006                -10  99.991034   \n",
            "...                  ...          ...                ...        ...   \n",
            "57229          -4.953044  5734.232003                -10  30.000690   \n",
            "57230          -4.953044  5734.329005                -10  30.000345   \n",
            "57231          -4.953044  5734.431006                -10  30.000000   \n",
            "57232          -4.953044  5734.525001                -10  29.999655   \n",
            "57233          -4.953044  5734.631005                -10  29.999655   \n",
            "\n",
            "      Drive Cycle  \n",
            "0         Cycle_1  \n",
            "1         Cycle_1  \n",
            "2         Cycle_1  \n",
            "3         Cycle_1  \n",
            "4         Cycle_1  \n",
            "...           ...  \n",
            "57229     Cycle_1  \n",
            "57230     Cycle_1  \n",
            "57231     Cycle_1  \n",
            "57232     Cycle_1  \n",
            "57233     Cycle_1  \n",
            "\n",
            "[57234 rows x 11 columns]\n"
          ]
        }
      ]
    },
    {
      "cell_type": "markdown",
      "source": [
        "## データを確認する"
      ],
      "metadata": {
        "id": "2XPbEK8RKddi"
      }
    },
    {
      "cell_type": "code",
      "source": [
        "df.head()"
      ],
      "metadata": {
        "colab": {
          "base_uri": "https://localhost:8080/",
          "height": 461
        },
        "id": "bLFCVw7TEvGG",
        "outputId": "19caf081-881b-494a-bebf-0509218794b5"
      },
      "execution_count": null,
      "outputs": [
        {
          "output_type": "execute_result",
          "data": {
            "text/plain": [
              "               TimeStamp  Voltage  Current       Ah  Wh     Power  \\\n",
              "0  6/10/2017 11:25:41 AM  4.10596 -1.80146 -0.00005 NaN -7.396723   \n",
              "1  6/10/2017 11:25:41 AM  4.01524 -1.84964 -0.00010 NaN -7.426749   \n",
              "2  6/10/2017 11:25:41 AM  3.95799 -1.88639 -0.00015 NaN -7.466313   \n",
              "3  6/10/2017 11:25:41 AM  3.90973 -1.91824 -0.00021 NaN -7.499800   \n",
              "4  6/10/2017 11:25:41 AM  3.86920 -1.94519 -0.00026 NaN -7.526329   \n",
              "\n",
              "   Battery_Temp_degC      Time  Chamber_Temp_degC        SOC Drive Cycle  \n",
              "0         -10.158136  0.000000                -10  99.998276     Cycle_1  \n",
              "1         -10.158136  0.102001                -10  99.996552     Cycle_1  \n",
              "2         -10.158136  0.197002                -10  99.994828     Cycle_1  \n",
              "3         -10.158136  0.300008                -10  99.992759     Cycle_1  \n",
              "4         -10.158136  0.398006                -10  99.991034     Cycle_1  "
            ],
            "text/html": [
              "\n",
              "  <div id=\"df-96119f01-a8d8-4178-9ede-70c9c7e3086f\">\n",
              "    <div class=\"colab-df-container\">\n",
              "      <div>\n",
              "<style scoped>\n",
              "    .dataframe tbody tr th:only-of-type {\n",
              "        vertical-align: middle;\n",
              "    }\n",
              "\n",
              "    .dataframe tbody tr th {\n",
              "        vertical-align: top;\n",
              "    }\n",
              "\n",
              "    .dataframe thead th {\n",
              "        text-align: right;\n",
              "    }\n",
              "</style>\n",
              "<table border=\"1\" class=\"dataframe\">\n",
              "  <thead>\n",
              "    <tr style=\"text-align: right;\">\n",
              "      <th></th>\n",
              "      <th>TimeStamp</th>\n",
              "      <th>Voltage</th>\n",
              "      <th>Current</th>\n",
              "      <th>Ah</th>\n",
              "      <th>Wh</th>\n",
              "      <th>Power</th>\n",
              "      <th>Battery_Temp_degC</th>\n",
              "      <th>Time</th>\n",
              "      <th>Chamber_Temp_degC</th>\n",
              "      <th>SOC</th>\n",
              "      <th>Drive Cycle</th>\n",
              "    </tr>\n",
              "  </thead>\n",
              "  <tbody>\n",
              "    <tr>\n",
              "      <th>0</th>\n",
              "      <td>6/10/2017 11:25:41 AM</td>\n",
              "      <td>4.10596</td>\n",
              "      <td>-1.80146</td>\n",
              "      <td>-0.00005</td>\n",
              "      <td>NaN</td>\n",
              "      <td>-7.396723</td>\n",
              "      <td>-10.158136</td>\n",
              "      <td>0.000000</td>\n",
              "      <td>-10</td>\n",
              "      <td>99.998276</td>\n",
              "      <td>Cycle_1</td>\n",
              "    </tr>\n",
              "    <tr>\n",
              "      <th>1</th>\n",
              "      <td>6/10/2017 11:25:41 AM</td>\n",
              "      <td>4.01524</td>\n",
              "      <td>-1.84964</td>\n",
              "      <td>-0.00010</td>\n",
              "      <td>NaN</td>\n",
              "      <td>-7.426749</td>\n",
              "      <td>-10.158136</td>\n",
              "      <td>0.102001</td>\n",
              "      <td>-10</td>\n",
              "      <td>99.996552</td>\n",
              "      <td>Cycle_1</td>\n",
              "    </tr>\n",
              "    <tr>\n",
              "      <th>2</th>\n",
              "      <td>6/10/2017 11:25:41 AM</td>\n",
              "      <td>3.95799</td>\n",
              "      <td>-1.88639</td>\n",
              "      <td>-0.00015</td>\n",
              "      <td>NaN</td>\n",
              "      <td>-7.466313</td>\n",
              "      <td>-10.158136</td>\n",
              "      <td>0.197002</td>\n",
              "      <td>-10</td>\n",
              "      <td>99.994828</td>\n",
              "      <td>Cycle_1</td>\n",
              "    </tr>\n",
              "    <tr>\n",
              "      <th>3</th>\n",
              "      <td>6/10/2017 11:25:41 AM</td>\n",
              "      <td>3.90973</td>\n",
              "      <td>-1.91824</td>\n",
              "      <td>-0.00021</td>\n",
              "      <td>NaN</td>\n",
              "      <td>-7.499800</td>\n",
              "      <td>-10.158136</td>\n",
              "      <td>0.300008</td>\n",
              "      <td>-10</td>\n",
              "      <td>99.992759</td>\n",
              "      <td>Cycle_1</td>\n",
              "    </tr>\n",
              "    <tr>\n",
              "      <th>4</th>\n",
              "      <td>6/10/2017 11:25:41 AM</td>\n",
              "      <td>3.86920</td>\n",
              "      <td>-1.94519</td>\n",
              "      <td>-0.00026</td>\n",
              "      <td>NaN</td>\n",
              "      <td>-7.526329</td>\n",
              "      <td>-10.158136</td>\n",
              "      <td>0.398006</td>\n",
              "      <td>-10</td>\n",
              "      <td>99.991034</td>\n",
              "      <td>Cycle_1</td>\n",
              "    </tr>\n",
              "  </tbody>\n",
              "</table>\n",
              "</div>\n",
              "      <button class=\"colab-df-convert\" onclick=\"convertToInteractive('df-96119f01-a8d8-4178-9ede-70c9c7e3086f')\"\n",
              "              title=\"Convert this dataframe to an interactive table.\"\n",
              "              style=\"display:none;\">\n",
              "        \n",
              "  <svg xmlns=\"http://www.w3.org/2000/svg\" height=\"24px\"viewBox=\"0 0 24 24\"\n",
              "       width=\"24px\">\n",
              "    <path d=\"M0 0h24v24H0V0z\" fill=\"none\"/>\n",
              "    <path d=\"M18.56 5.44l.94 2.06.94-2.06 2.06-.94-2.06-.94-.94-2.06-.94 2.06-2.06.94zm-11 1L8.5 8.5l.94-2.06 2.06-.94-2.06-.94L8.5 2.5l-.94 2.06-2.06.94zm10 10l.94 2.06.94-2.06 2.06-.94-2.06-.94-.94-2.06-.94 2.06-2.06.94z\"/><path d=\"M17.41 7.96l-1.37-1.37c-.4-.4-.92-.59-1.43-.59-.52 0-1.04.2-1.43.59L10.3 9.45l-7.72 7.72c-.78.78-.78 2.05 0 2.83L4 21.41c.39.39.9.59 1.41.59.51 0 1.02-.2 1.41-.59l7.78-7.78 2.81-2.81c.8-.78.8-2.07 0-2.86zM5.41 20L4 18.59l7.72-7.72 1.47 1.35L5.41 20z\"/>\n",
              "  </svg>\n",
              "      </button>\n",
              "      \n",
              "  <style>\n",
              "    .colab-df-container {\n",
              "      display:flex;\n",
              "      flex-wrap:wrap;\n",
              "      gap: 12px;\n",
              "    }\n",
              "\n",
              "    .colab-df-convert {\n",
              "      background-color: #E8F0FE;\n",
              "      border: none;\n",
              "      border-radius: 50%;\n",
              "      cursor: pointer;\n",
              "      display: none;\n",
              "      fill: #1967D2;\n",
              "      height: 32px;\n",
              "      padding: 0 0 0 0;\n",
              "      width: 32px;\n",
              "    }\n",
              "\n",
              "    .colab-df-convert:hover {\n",
              "      background-color: #E2EBFA;\n",
              "      box-shadow: 0px 1px 2px rgba(60, 64, 67, 0.3), 0px 1px 3px 1px rgba(60, 64, 67, 0.15);\n",
              "      fill: #174EA6;\n",
              "    }\n",
              "\n",
              "    [theme=dark] .colab-df-convert {\n",
              "      background-color: #3B4455;\n",
              "      fill: #D2E3FC;\n",
              "    }\n",
              "\n",
              "    [theme=dark] .colab-df-convert:hover {\n",
              "      background-color: #434B5C;\n",
              "      box-shadow: 0px 1px 3px 1px rgba(0, 0, 0, 0.15);\n",
              "      filter: drop-shadow(0px 1px 2px rgba(0, 0, 0, 0.3));\n",
              "      fill: #FFFFFF;\n",
              "    }\n",
              "  </style>\n",
              "\n",
              "      <script>\n",
              "        const buttonEl =\n",
              "          document.querySelector('#df-96119f01-a8d8-4178-9ede-70c9c7e3086f button.colab-df-convert');\n",
              "        buttonEl.style.display =\n",
              "          google.colab.kernel.accessAllowed ? 'block' : 'none';\n",
              "\n",
              "        async function convertToInteractive(key) {\n",
              "          const element = document.querySelector('#df-96119f01-a8d8-4178-9ede-70c9c7e3086f');\n",
              "          const dataTable =\n",
              "            await google.colab.kernel.invokeFunction('convertToInteractive',\n",
              "                                                     [key], {});\n",
              "          if (!dataTable) return;\n",
              "\n",
              "          const docLinkHtml = 'Like what you see? Visit the ' +\n",
              "            '<a target=\"_blank\" href=https://colab.research.google.com/notebooks/data_table.ipynb>data table notebook</a>'\n",
              "            + ' to learn more about interactive tables.';\n",
              "          element.innerHTML = '';\n",
              "          dataTable['output_type'] = 'display_data';\n",
              "          await google.colab.output.renderOutput(dataTable, element);\n",
              "          const docLink = document.createElement('div');\n",
              "          docLink.innerHTML = docLinkHtml;\n",
              "          element.appendChild(docLink);\n",
              "        }\n",
              "      </script>\n",
              "    </div>\n",
              "  </div>\n",
              "  "
            ]
          },
          "metadata": {},
          "execution_count": 8
        }
      ]
    },
    {
      "cell_type": "markdown",
      "source": [
        "|  カラム名 |  内容 |\n",
        "|  --| -- |\n",
        "| TimeStamp | 計測日時 |\n",
        "| Voltage | セル端子電圧の計測値(V) |\n",
        "| Current | 電流の計測値(A) |\n",
        "| Ah | 計測された電流積算値(Ah) |\n",
        "|  カラム名 |  内容 |\n",
        "|  カラム名 |  内容 |\n",
        "|  カラム名 |  内容 |\n",
        "|  カラム名 |  内容 |\n",
        "|  カラム名 |  内容 |\n",
        "|  カラム名 |  内容 |\n"
      ],
      "metadata": {
        "id": "r4qpC6yAKmZz"
      }
    },
    {
      "cell_type": "code",
      "source": [
        ""
      ],
      "metadata": {
        "id": "tTyDfsNdKhZM"
      },
      "execution_count": null,
      "outputs": []
    }
  ]
}