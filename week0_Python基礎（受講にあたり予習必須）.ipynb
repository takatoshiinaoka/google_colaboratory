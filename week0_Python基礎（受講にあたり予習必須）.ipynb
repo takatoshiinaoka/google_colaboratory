{
  "cells": [
    {
      "cell_type": "markdown",
      "metadata": {
        "id": "view-in-github",
        "colab_type": "text"
      },
      "source": [
        "<a href=\"https://colab.research.google.com/github/takatoshiinaoka/google_colaboratory/blob/main/week0_Python%E5%9F%BA%E7%A4%8E%EF%BC%88%E5%8F%97%E8%AC%9B%E3%81%AB%E3%81%82%E3%81%9F%E3%82%8A%E4%BA%88%E7%BF%92%E5%BF%85%E9%A0%88%EF%BC%89.ipynb\" target=\"_parent\"><img src=\"https://colab.research.google.com/assets/colab-badge.svg\" alt=\"Open In Colab\"/></a>"
      ]
    },
    {
      "cell_type": "markdown",
      "metadata": {
        "id": "eQp7IbnuQ-YB"
      },
      "source": [
        "# Python基礎"
      ]
    },
    {
      "cell_type": "markdown",
      "metadata": {
        "id": "PQDpGX-8Q-YC"
      },
      "source": [
        "この講座ではPythonというプログラミング言語を使ってデータ分析を行います。その準備として、このChapterではPythonの基礎文法を学んでいきます。プログラミング未経験者・初心者の人は、このChapterを通してプログラミングというものに少しずつ慣れていきましょう。"
      ]
    },
    {
      "cell_type": "markdown",
      "metadata": {
        "id": "ZtmyYd-bQ-YD"
      },
      "source": [
        "### 目次\n",
        "\n",
        "**[0.1 プログラミング入門](#1.1-プログラミング入門)**  \n",
        "> [0.1.1 概論](#0.1.1-概論)  \n",
        "> [0.1.2 プログラミングの進め方](#0.1.2-プログラミングの進め方)  \n",
        "> [0.1.3 コメント](#0.1.3-コメント)  \n",
        "> [0.1.4 エラーへの対処方法](#0.1.4-エラーへの対処方法)  \n",
        "\n",
        "**[0.2 Python文法(基礎)](#1.2-Python文法(基礎))**  \n",
        "> [0.2.1 演算](#0.2.1-演算)  \n",
        "> [0.2.2 変数](#0.2.2-変数)  \n",
        "> [0.2.3 プログラムの評価](#0.2.3-プログラムの評価)  \n",
        "> [0.2.4 条件分岐](#0.2.4-条件分岐)  \n",
        "> [0.2.5 ループ](#0.2.5-ループ)  \n",
        "> [0.2.6 関数](#0.2.6-関数)  \n",
        "> [0.2.7 データ型](#0.2.7-データ型)  \n",
        "> [0.2.8 練習問題](#0.2.8-練習問題)  \n",
        "\n",
        "\n",
        "**[0.3 Python文法(発展)](#0.3-Python文法(発展))**\n",
        "> [0.3.1 クラス](#0.3.1-クラス)  \n",
        "> [0.3.2 モジュール・ライブラリ](#0.3.2-モジュール・ライブラリ)  \n",
        "\n",
        "**[0.4 総合問題](#0.4-総合問題)**"
      ]
    },
    {
      "cell_type": "markdown",
      "metadata": {
        "id": "AVhYifugQ-YD"
      },
      "source": [
        "## 0.1 プログラミング入門"
      ]
    },
    {
      "cell_type": "markdown",
      "metadata": {
        "id": "k8reb8rXQ-YE"
      },
      "source": [
        "### 0.1.1 概論"
      ]
    },
    {
      "cell_type": "markdown",
      "metadata": {
        "id": "GFT280gxQ-YE"
      },
      "source": [
        "**プログラミング**とは、「ある目的のためにプログラム(コンピュータに対する命令を並べたもの)を設計・構築する」プロセスのことを言います。もう少し簡単に言えば、「ある計算を行う手順を記述する」のがプログラミングです。\n",
        "\n",
        "例えば、2と3の和を求めるとき、下のようなプログラムを書いて実行することでその答えを知ることができます。単純な例ですが、これも立派なプログラムです。"
      ]
    },
    {
      "cell_type": "markdown",
      "metadata": {
        "id": "Bx8qPVJMQ-YE"
      },
      "source": [
        "```python\n",
        "2 + 3\n",
        "```"
      ]
    },
    {
      "cell_type": "markdown",
      "metadata": {
        "id": "yBj2XfFPQ-YE"
      },
      "source": [
        "より複雑な例として、1から10までの和を求めるプログラムを以下に示します。(詳細については以降の節で学びます。)"
      ]
    },
    {
      "cell_type": "markdown",
      "metadata": {
        "id": "3IEWSBR0Q-YE"
      },
      "source": [
        "```python\n",
        "s = 0\n",
        "for n in range(1,11):\n",
        "    s = s + n\n",
        "s\n",
        "```"
      ]
    },
    {
      "cell_type": "markdown",
      "metadata": {
        "id": "F_jgiE5zQ-YE"
      },
      "source": [
        "プログラミングをするときには何らかの**プログラミング言語**を使用します。プログラミング言語には「Aというプログラムを書くとBという処理が行われる」というような規則が定められています。これを**文法**と言いますが、文法は使用するプログラミング言語によって異なります。プログラミングの学習は、この文法を知ることから始まります。\n",
        "\n",
        "データ分析・機械学習のためのツールが豊富に揃っているという理由で、この講座ではPythonという言語を使ってプログラミングをしていきます。実際、その領域でPythonを使っている人はとても多いです。またPythonはプログラミング初学者にとって比較的わかりやすい言語であり、学習コストが低いのも魅力の1つです。ということで、このChapterではPythonの基礎文法を学んでいきます。"
      ]
    },
    {
      "cell_type": "markdown",
      "metadata": {
        "id": "9clS6s3fQ-YF"
      },
      "source": [
        "### 0.1.2 プログラミングの進め方"
      ]
    },
    {
      "cell_type": "markdown",
      "metadata": {
        "id": "otvmzsqbQ-YF"
      },
      "source": [
        "これから実際にPythonでプログラミングをしていきますが、その進め方について簡単に説明します。\n",
        "このファイルを読むために**Jupyter Notebook**(やそれに類するツール)を利用していると思います。Jupyter NotebookはPythonの実行環境を提供しており、**セル**と呼ばれるボックスにPythonプログラムを書いてShift + Enterを押すことで実行することができます。\n",
        "\n",
        "セルにはいくつかの種類がありますが、そのうちプログラムを実行するためのセルが**Codeセル**です。コードセルの左側には`In[n]`といった表示が出ています。プログラムを書いて実行すると`Out[n]`といった表示の横にその実行結果が表示されます。\n",
        "\n",
        "ノートブックにはメモを残すこともできます。そのためのセルが**Markdownセル(Textセル)**です。Markdown記法を用いることで見栄えの良いテキストを作成することができます。"
      ]
    },
    {
      "cell_type": "markdown",
      "metadata": {
        "id": "J5bNg1KnQ-YF"
      },
      "source": [
        "では、先ほどのプログラムを実行してみましょう。正しい実行結果が返ってきたらOKです。"
      ]
    },
    {
      "cell_type": "code",
      "execution_count": 1,
      "metadata": {
        "id": "n2b2ts4DQ-YF",
        "colab": {
          "base_uri": "https://localhost:8080/"
        },
        "outputId": "4a9f500a-8da4-4567-a303-10275ce3a860"
      },
      "outputs": [
        {
          "output_type": "execute_result",
          "data": {
            "text/plain": [
              "5"
            ]
          },
          "metadata": {},
          "execution_count": 1
        }
      ],
      "source": [
        "2 + 3"
      ]
    },
    {
      "cell_type": "code",
      "execution_count": 2,
      "metadata": {
        "id": "z-DInEAMQ-YG",
        "colab": {
          "base_uri": "https://localhost:8080/"
        },
        "outputId": "69ec37e2-8b37-40a0-d8d8-4b5cb2163620"
      },
      "outputs": [
        {
          "output_type": "execute_result",
          "data": {
            "text/plain": [
              "55"
            ]
          },
          "metadata": {},
          "execution_count": 2
        }
      ],
      "source": [
        "s = 0\n",
        "for n in range(1,11):\n",
        "    s = s + n\n",
        "s"
      ]
    },
    {
      "cell_type": "markdown",
      "metadata": {
        "id": "kUoPnRU7Q-YG"
      },
      "source": [
        "### 0.1.3 コメント"
      ]
    },
    {
      "cell_type": "markdown",
      "metadata": {
        "id": "a-zQXNHIQ-YG"
      },
      "source": [
        "Jupyter Notebook以外にも、Pythonの実行環境は様々あります。例えばPythonのインタラクティブシェルは入力されたプログラムに対してその実行結果を返しますが、基本的に入力プログラムや出力結果を保存しないため、シェルを閉じると内容が消えてしまいます。それに対してJupyter Notebookはプログラムとその実行結果をともに保存しておけるので、ノートブックを閉じても問題ありません。\n",
        "\n",
        "しかし、プログラムが残っていたとしてもその意味がわからなくなることがあるかもしれません。プログラムを書く際には適度にメモを残していくことで、後で見返したときに役立ちます。多くのプログラミング言語ではプログラムに**コメント**をつけることができ、コメントとして書いた部分はプログラム実行のときに無視されるようになっています。\n",
        "\n",
        "Pythonでは`#`の右側部分がコメントとみなされます。例で確認してみましょう。"
      ]
    },
    {
      "cell_type": "code",
      "execution_count": null,
      "metadata": {
        "id": "KEsnuvESQ-YG"
      },
      "outputs": [],
      "source": [
        "# コメント\n",
        "2 + 3 # コメント\n",
        "# コメント"
      ]
    },
    {
      "cell_type": "markdown",
      "metadata": {
        "id": "RaVlh56DQ-YG"
      },
      "source": [
        "### 0.1.4 エラーへの対処方法"
      ]
    },
    {
      "cell_type": "markdown",
      "metadata": {
        "id": "as7bzS_rQ-YH"
      },
      "source": [
        "プログラミングには**エラー**がつきものです。文法に則らないプログラムを書いたり、何らかの不正な処理をしたりしたときにエラーが発生します。エラーが発生すると、その場所でプログラムの実行が停止し、どの部分でどのような原因でエラーが生じたかがエラーメッセージとして表示されます。これからたくさんのエラーに遭遇すると思いますが、まずはエラーメッセージを解読するよう努めましょう。もしその意味が分からなければ、インターネットで検索してみましょう。同様のエラーで苦しんだ人が必ずいるはずです。"
      ]
    },
    {
      "cell_type": "markdown",
      "metadata": {
        "id": "pDQRSzE_Q-YH"
      },
      "source": [
        "## 0.2 Python文法(基礎)"
      ]
    },
    {
      "cell_type": "markdown",
      "metadata": {
        "id": "SKrhYgE-Q-YH"
      },
      "source": [
        "### 0.2.1 演算"
      ]
    },
    {
      "cell_type": "markdown",
      "metadata": {
        "id": "zHu-J7s1Q-YH"
      },
      "source": [
        "まずは算術演算から始めましょう。加算、減算については数学の記号と同様ですが、乗算、除算についてはプログラミング言語に特有な記号を使います。(これは多くの言語で共通しています。)"
      ]
    },
    {
      "cell_type": "code",
      "execution_count": 3,
      "metadata": {
        "id": "jcpc4vvkQ-YH",
        "colab": {
          "base_uri": "https://localhost:8080/"
        },
        "outputId": "21f3a292-1346-4971-e235-f15a120fb470"
      },
      "outputs": [
        {
          "output_type": "execute_result",
          "data": {
            "text/plain": [
              "9"
            ]
          },
          "metadata": {},
          "execution_count": 3
        }
      ],
      "source": [
        "# 加算\n",
        "6 + 3"
      ]
    },
    {
      "cell_type": "code",
      "execution_count": 4,
      "metadata": {
        "id": "BYpRKE7cQ-YH",
        "colab": {
          "base_uri": "https://localhost:8080/"
        },
        "outputId": "f18bac33-22b6-4bb6-ddc4-a326ad97a6b2"
      },
      "outputs": [
        {
          "output_type": "execute_result",
          "data": {
            "text/plain": [
              "3"
            ]
          },
          "metadata": {},
          "execution_count": 4
        }
      ],
      "source": [
        "# 減算\n",
        "6 - 3"
      ]
    },
    {
      "cell_type": "code",
      "execution_count": 5,
      "metadata": {
        "id": "83Ie-lH5Q-YH",
        "colab": {
          "base_uri": "https://localhost:8080/"
        },
        "outputId": "451bfc67-d672-4b8f-ffd1-7d18b43774b1"
      },
      "outputs": [
        {
          "output_type": "execute_result",
          "data": {
            "text/plain": [
              "18"
            ]
          },
          "metadata": {},
          "execution_count": 5
        }
      ],
      "source": [
        "# 乗算\n",
        "6 * 3"
      ]
    },
    {
      "cell_type": "code",
      "execution_count": 6,
      "metadata": {
        "id": "8buwlitlQ-YH",
        "colab": {
          "base_uri": "https://localhost:8080/"
        },
        "outputId": "5333f97a-efa5-48c7-d069-1e17a4d801b5"
      },
      "outputs": [
        {
          "output_type": "execute_result",
          "data": {
            "text/plain": [
              "2.0"
            ]
          },
          "metadata": {},
          "execution_count": 6
        }
      ],
      "source": [
        "# 除算(商)\n",
        "6 / 3"
      ]
    },
    {
      "cell_type": "code",
      "execution_count": 7,
      "metadata": {
        "id": "LSYyLCAFQ-YI",
        "colab": {
          "base_uri": "https://localhost:8080/"
        },
        "outputId": "de01b63c-101c-47bd-f590-5b52bea20bec"
      },
      "outputs": [
        {
          "output_type": "execute_result",
          "data": {
            "text/plain": [
              "0"
            ]
          },
          "metadata": {},
          "execution_count": 7
        }
      ],
      "source": [
        "# 除算(剰余)\n",
        "6 % 3"
      ]
    },
    {
      "cell_type": "code",
      "execution_count": 8,
      "metadata": {
        "id": "E1QWnCi2Q-YI",
        "colab": {
          "base_uri": "https://localhost:8080/"
        },
        "outputId": "37d87661-ac74-4ea0-f53b-d2f945a63541"
      },
      "outputs": [
        {
          "output_type": "execute_result",
          "data": {
            "text/plain": [
              "216"
            ]
          },
          "metadata": {},
          "execution_count": 8
        }
      ],
      "source": [
        "# 冪乗\n",
        "6 ** 3"
      ]
    },
    {
      "cell_type": "markdown",
      "metadata": {
        "id": "ZVt-cX4XQ-YI"
      },
      "source": [
        "算術演算を組み合わせて、より複雑な計算を行うこともできます。このとき、演算子の結合強度は **冪乗 > 乗算・除算 > 加算・減算** となっています。括弧がある場合、その内部の計算を優先します。"
      ]
    },
    {
      "cell_type": "code",
      "execution_count": 9,
      "metadata": {
        "id": "QYwKey9WQ-YI",
        "colab": {
          "base_uri": "https://localhost:8080/"
        },
        "outputId": "47f5026c-b5cf-4cf3-c84e-4745638ccbe3"
      },
      "outputs": [
        {
          "output_type": "execute_result",
          "data": {
            "text/plain": [
              "25"
            ]
          },
          "metadata": {},
          "execution_count": 9
        }
      ],
      "source": [
        "(1 + 2) * 3 + 4**2"
      ]
    },
    {
      "cell_type": "code",
      "execution_count": 10,
      "metadata": {
        "id": "dl0A34DOQ-YI",
        "colab": {
          "base_uri": "https://localhost:8080/"
        },
        "outputId": "e944c4ac-209a-4904-eb6c-e4ab4e4d499f"
      },
      "outputs": [
        {
          "output_type": "execute_result",
          "data": {
            "text/plain": [
              "14"
            ]
          },
          "metadata": {},
          "execution_count": 10
        }
      ],
      "source": [
        "2 + 3 * 4"
      ]
    },
    {
      "cell_type": "code",
      "execution_count": 11,
      "metadata": {
        "id": "1voCs7kRQ-YI",
        "colab": {
          "base_uri": "https://localhost:8080/"
        },
        "outputId": "7f1b85b6-094a-4cd2-9d83-1445318d7eb3"
      },
      "outputs": [
        {
          "output_type": "execute_result",
          "data": {
            "text/plain": [
              "20"
            ]
          },
          "metadata": {},
          "execution_count": 11
        }
      ],
      "source": [
        "(2 + 3) * 4"
      ]
    },
    {
      "cell_type": "code",
      "execution_count": 12,
      "metadata": {
        "id": "iV0ZmCsTQ-YJ",
        "colab": {
          "base_uri": "https://localhost:8080/"
        },
        "outputId": "d399ceff-f169-4f15-dcf1-054dcd0b4f3f"
      },
      "outputs": [
        {
          "output_type": "execute_result",
          "data": {
            "text/plain": [
              "32"
            ]
          },
          "metadata": {},
          "execution_count": 12
        }
      ],
      "source": [
        "2 ** 3 * 4"
      ]
    },
    {
      "cell_type": "code",
      "execution_count": 13,
      "metadata": {
        "id": "FkG448zyQ-YJ",
        "colab": {
          "base_uri": "https://localhost:8080/"
        },
        "outputId": "32e1d79a-3b43-4632-a31d-9e43f3199f5c"
      },
      "outputs": [
        {
          "output_type": "execute_result",
          "data": {
            "text/plain": [
              "4096"
            ]
          },
          "metadata": {},
          "execution_count": 13
        }
      ],
      "source": [
        "2 ** (3 * 4) "
      ]
    },
    {
      "cell_type": "markdown",
      "metadata": {
        "id": "b3ARuefmQ-YJ"
      },
      "source": [
        "比較演算も見てみましょう。以下に示すように、比較のパターンは6種類あります。「等しい」「等しくない」を表す記号は数学のそれとは異なります。"
      ]
    },
    {
      "cell_type": "code",
      "execution_count": 14,
      "metadata": {
        "id": "M5WVQr_qQ-YJ",
        "colab": {
          "base_uri": "https://localhost:8080/"
        },
        "outputId": "7cce5ead-d16a-4997-ca33-be1ac970542a"
      },
      "outputs": [
        {
          "output_type": "execute_result",
          "data": {
            "text/plain": [
              "False"
            ]
          },
          "metadata": {},
          "execution_count": 14
        }
      ],
      "source": [
        "# (左)が(右)より大きい\n",
        "2 > 3"
      ]
    },
    {
      "cell_type": "code",
      "execution_count": 15,
      "metadata": {
        "id": "kI27OVbWQ-YJ",
        "colab": {
          "base_uri": "https://localhost:8080/"
        },
        "outputId": "5fb99246-a27d-4c4e-cc2c-2fd7db74c884"
      },
      "outputs": [
        {
          "output_type": "execute_result",
          "data": {
            "text/plain": [
              "True"
            ]
          },
          "metadata": {},
          "execution_count": 15
        }
      ],
      "source": [
        "# (左)が(右)より小さい\n",
        "2 < 3"
      ]
    },
    {
      "cell_type": "code",
      "execution_count": 16,
      "metadata": {
        "id": "-oiKWZ5nQ-YJ",
        "colab": {
          "base_uri": "https://localhost:8080/"
        },
        "outputId": "af12031a-2960-40a2-a152-25895a511edd"
      },
      "outputs": [
        {
          "output_type": "execute_result",
          "data": {
            "text/plain": [
              "False"
            ]
          },
          "metadata": {},
          "execution_count": 16
        }
      ],
      "source": [
        "# (左)が(右)以上である\n",
        "2 >= 3"
      ]
    },
    {
      "cell_type": "code",
      "execution_count": 17,
      "metadata": {
        "id": "wxBWd5n3Q-YJ",
        "colab": {
          "base_uri": "https://localhost:8080/"
        },
        "outputId": "074142da-e464-46d8-83a2-7665cd042e95"
      },
      "outputs": [
        {
          "output_type": "execute_result",
          "data": {
            "text/plain": [
              "True"
            ]
          },
          "metadata": {},
          "execution_count": 17
        }
      ],
      "source": [
        "# (左)が(右)以下である\n",
        "2 <= 3"
      ]
    },
    {
      "cell_type": "code",
      "execution_count": 18,
      "metadata": {
        "id": "2y_ZSJUXQ-YJ",
        "colab": {
          "base_uri": "https://localhost:8080/"
        },
        "outputId": "5612f91b-c866-4196-9cdd-a436ac2c055d"
      },
      "outputs": [
        {
          "output_type": "execute_result",
          "data": {
            "text/plain": [
              "False"
            ]
          },
          "metadata": {},
          "execution_count": 18
        }
      ],
      "source": [
        "# (左)が(右)と等しい\n",
        "2 == 3"
      ]
    },
    {
      "cell_type": "code",
      "execution_count": 19,
      "metadata": {
        "id": "1eRLflC9Q-YK",
        "colab": {
          "base_uri": "https://localhost:8080/"
        },
        "outputId": "fccaa19a-1f0a-416f-9b61-070c8273067a"
      },
      "outputs": [
        {
          "output_type": "execute_result",
          "data": {
            "text/plain": [
              "True"
            ]
          },
          "metadata": {},
          "execution_count": 19
        }
      ],
      "source": [
        "# (左)が(右)と等しくない\n",
        "2 != 3"
      ]
    },
    {
      "cell_type": "markdown",
      "metadata": {
        "id": "Jicase13Q-YK"
      },
      "source": [
        "ここで、`True`および`False`は**真偽値**といいます。`True`は真(成立)である、`False`は偽(不成立)であることを表します。\n",
        "\n",
        "ここからは論理演算(真偽値に関する計算)を見ていきます。Pythonでは論理積`and`、論理和`or`、否定`not`がサポートされています。"
      ]
    },
    {
      "cell_type": "code",
      "execution_count": 20,
      "metadata": {
        "id": "NGUA4X0CQ-YK",
        "colab": {
          "base_uri": "https://localhost:8080/"
        },
        "outputId": "6d580d68-4576-4d25-f565-e7aab6c2c7b0"
      },
      "outputs": [
        {
          "output_type": "execute_result",
          "data": {
            "text/plain": [
              "False"
            ]
          },
          "metadata": {},
          "execution_count": 20
        }
      ],
      "source": [
        "True and False"
      ]
    },
    {
      "cell_type": "code",
      "execution_count": 21,
      "metadata": {
        "id": "0MVBYBNEQ-YK",
        "colab": {
          "base_uri": "https://localhost:8080/"
        },
        "outputId": "c9208400-0da0-40cf-d8d7-6fa8bc03cf00"
      },
      "outputs": [
        {
          "output_type": "execute_result",
          "data": {
            "text/plain": [
              "True"
            ]
          },
          "metadata": {},
          "execution_count": 21
        }
      ],
      "source": [
        "True or False"
      ]
    },
    {
      "cell_type": "code",
      "execution_count": 22,
      "metadata": {
        "id": "5rxKsyW0Q-YK",
        "colab": {
          "base_uri": "https://localhost:8080/"
        },
        "outputId": "800529f6-28c7-48d8-c8dc-ffbca6ff41cd"
      },
      "outputs": [
        {
          "output_type": "execute_result",
          "data": {
            "text/plain": [
              "False"
            ]
          },
          "metadata": {},
          "execution_count": 22
        }
      ],
      "source": [
        "not True"
      ]
    },
    {
      "cell_type": "markdown",
      "metadata": {
        "id": "7TGjC-SzQ-YK"
      },
      "source": [
        "### 0.2.2 変数"
      ]
    },
    {
      "cell_type": "markdown",
      "metadata": {
        "id": "9sWKqfMNQ-YK"
      },
      "source": [
        "次に**変数**について説明します。変数とは、式の計算結果を保存しておく箱のようなものです。変数に値を保存することを**代入**と言い、その値を取り出して利用することを**参照**と言います。"
      ]
    },
    {
      "cell_type": "code",
      "execution_count": null,
      "metadata": {
        "id": "_aGMIZ1WQ-YK",
        "colab": {
          "base_uri": "https://localhost:8080/"
        },
        "outputId": "64781975-4a27-4529-c415-014debb8cdd0"
      },
      "outputs": [
        {
          "output_type": "execute_result",
          "data": {
            "text/plain": [
              "1"
            ]
          },
          "metadata": {},
          "execution_count": 1
        }
      ],
      "source": [
        "# xに1を代入し、xを参照する\n",
        "x = 1\n",
        "x"
      ]
    },
    {
      "cell_type": "markdown",
      "metadata": {
        "id": "YoWlbFPsQ-YK"
      },
      "source": [
        "上の例では`x`が変数です。プログラミング言語において`=`は「等しい」という意味ではなく「代入する」という意味で使います。\n",
        "\n",
        "一度保存した値は何度でも利用することができ、上書きされるまで残り続けます。変数の値を上書きすることを**再代入**ということもあります。再代入のときも代入と同様に書くことができます。"
      ]
    },
    {
      "cell_type": "code",
      "execution_count": null,
      "metadata": {
        "id": "lFsr3_WjQ-YL"
      },
      "outputs": [],
      "source": [
        "# xに2を再代入する\n",
        "x = 1\n",
        "x = 2\n",
        "x"
      ]
    },
    {
      "cell_type": "code",
      "execution_count": null,
      "metadata": {
        "id": "biXQapk9Q-YL"
      },
      "outputs": [],
      "source": [
        "# x+1をxに再代入する\n",
        "x = 1\n",
        "x = x + 1\n",
        "x"
      ]
    },
    {
      "cell_type": "markdown",
      "metadata": {
        "id": "iKzYdJiyQ-YL"
      },
      "source": [
        "直前の例の2行目について説明します。これは右辺の`x+1`を計算し、その結果を左辺の`x`に代入する、という処理を行います。右辺の計算をする時点で`x`の値は1なので、右辺の計算結果が2となり、`x`に2が代入されます。このように、変数の値を更新しながら計算を進めていくというのはよくあることです。"
      ]
    },
    {
      "cell_type": "markdown",
      "metadata": {
        "id": "IzNDveVbQ-YL"
      },
      "source": [
        "### 0.2.3 プログラムの評価"
      ]
    },
    {
      "cell_type": "markdown",
      "metadata": {
        "id": "dQVI0ig-Q-YL"
      },
      "source": [
        "ここでプログラミングにおける**評価**について少し触れておきます。\n",
        "コンピュータに対する命令を並べたものをプログラムと言いましたが、その1つ1つの命令に対応するものを**式**と言います。プログラムを実行するというのは、命令列を順に処理していき、プログラム全体としての処理結果を得ることです。\n",
        "\n",
        "式(に対応する命令)を処理すると、基本的に何らかの値が返ってきます。このように式を処理して値を得ることを式の評価、結果として得られる値を評価値と言います。式が複数並んでいる場合には、その最後の式の評価結果が全体の評価結果になります。例えば\n",
        "\n",
        "```python\n",
        "2 + 3\n",
        "```\n",
        "\n",
        "という式の評価結果は`5`になりますし、\n",
        "\n",
        "```python\n",
        "2 + 3\n",
        "3 + 4\n",
        "```\n",
        "\n",
        "という複数の式の評価結果は`7`になります。プログラムは複数の式の並びなので、その評価値はプログラム中の最後の式の評価値ということになります。Jupyter Notebook上ではプログラムの評価値が`Out[n]`の右側に出ることになっています。\n",
        "\n",
        "評価値がないような式もあります。代表的な例としては出力関数が挙げられます。(関数については後で学びます。)これはプログラム中にある式の評価値を表示するような命令です。"
      ]
    },
    {
      "cell_type": "code",
      "execution_count": 26,
      "metadata": {
        "id": "7JRUkFwRQ-YL",
        "colab": {
          "base_uri": "https://localhost:8080/"
        },
        "outputId": "f050f9f4-360e-4be1-ed74-73839f42ecd6"
      },
      "outputs": [
        {
          "output_type": "stream",
          "name": "stdout",
          "text": [
            "5\n"
          ]
        },
        {
          "output_type": "execute_result",
          "data": {
            "text/plain": [
              "7"
            ]
          },
          "metadata": {},
          "execution_count": 26
        }
      ],
      "source": [
        "# 出力関数\n",
        "print(2 + 3)\n",
        "3 + 4"
      ]
    },
    {
      "cell_type": "markdown",
      "metadata": {
        "id": "Z2wMu7xtQ-YL"
      },
      "source": [
        "上のプログラムを実行すると、その評価値として`7`が得られますが、その上に`5`と表示されます。この`5`は`print(...)`の中の式`2 + 3`の評価値に対応しています。`print`関数を使うことで、プログラムの途中式の計算結果を見ることができます。プログラムにエラーがあったとき、その原因を探るための常套手段としてよく用いられます。\n",
        "\n",
        "この`print`をプログラムの最後に書くと下のような結果となります。"
      ]
    },
    {
      "cell_type": "code",
      "execution_count": 25,
      "metadata": {
        "id": "eXJvFJUIQ-YM",
        "colab": {
          "base_uri": "https://localhost:8080/"
        },
        "outputId": "8c3a3257-eb63-4139-a353-47e349d236f1"
      },
      "outputs": [
        {
          "output_type": "stream",
          "name": "stdout",
          "text": [
            "5\n",
            "7\n"
          ]
        }
      ],
      "source": [
        "# 出力関数の評価値\n",
        "print(2 + 3)\n",
        "print(3 + 4)"
      ]
    },
    {
      "cell_type": "markdown",
      "metadata": {
        "id": "yl1I-2vwQ-YM"
      },
      "source": [
        "実行しても`Out[n]`の表示が現れません。このように、プログラムの評価値がない場合には`Out[n]`の表示が省略されることに注意しましょう。\n",
        "もう少し調べてみましょう。代入式\n",
        "\n",
        "```\n",
        "<変数> = <式>\n",
        "```\n",
        "\n",
        "ではまず右辺の式が評価され、その値が左辺の変数に代入されます。では、右辺の式の評価値がない場合にはどうなるでしょうか。実際に試してみましょう。"
      ]
    },
    {
      "cell_type": "code",
      "execution_count": 24,
      "metadata": {
        "id": "X3EWQdXDQ-YM",
        "colab": {
          "base_uri": "https://localhost:8080/"
        },
        "outputId": "386ff444-c0ed-4337-bb81-0c387492a08e"
      },
      "outputs": [
        {
          "output_type": "stream",
          "name": "stdout",
          "text": [
            "5\n",
            "None\n"
          ]
        }
      ],
      "source": [
        "# 右辺の式の評価値がない場合の代入式\n",
        "x = print(2 + 3)\n",
        "print(x)"
      ]
    },
    {
      "cell_type": "markdown",
      "metadata": {
        "id": "iLjJuKxxQ-YM"
      },
      "source": [
        "Pythonでは値が存在しないことを表すデータとして`None`というものが用意されています。`None`に対する演算は限られていますが、例えばあるデータがNoneかどうか判定するには`is`演算子を用いて下のようにします。"
      ]
    },
    {
      "cell_type": "code",
      "execution_count": 23,
      "metadata": {
        "id": "UbU8evLnQ-YM",
        "colab": {
          "base_uri": "https://localhost:8080/"
        },
        "outputId": "b704d562-00c7-4263-cf07-52e95f10b135"
      },
      "outputs": [
        {
          "output_type": "stream",
          "name": "stdout",
          "text": [
            "5\n"
          ]
        },
        {
          "output_type": "execute_result",
          "data": {
            "text/plain": [
              "True"
            ]
          },
          "metadata": {},
          "execution_count": 23
        }
      ],
      "source": [
        "# is演算子\n",
        "x = print(2 + 3)\n",
        "x is None"
      ]
    },
    {
      "cell_type": "markdown",
      "metadata": {
        "id": "_ssmRRQDQ-YM"
      },
      "source": [
        "### 0.2.4 条件分岐"
      ]
    },
    {
      "cell_type": "markdown",
      "metadata": {
        "id": "x9ISZcnFQ-YM"
      },
      "source": [
        "プログラムの基本的な処理の1つに**条件分岐**があります。これは条件によって実行する処理を変えるというものです。\n",
        "早速ですが、条件分岐に関する文法を見ていきましょう。Pythonでよく使われるのは`if`文です。フォーマットを以下に示します。\n",
        "\n",
        "```python\n",
        "if <条件式0>:\n",
        "    <(条件式0がTrueのときに実行する)処理>\n",
        "elif <条件式1>:\n",
        "    <(条件式0がFalse、条件式1がTrueのときに実行する)処理>\n",
        "else:\n",
        "    <(すべての条件式がFalseのときに実行する)処理>\n",
        "```\n",
        "\n",
        "`if`文は、条件式が`True`ならば処理を実行します。条件式が`False`のときに実行する処理を`else`節として`if`文に加えることもできます。また、条件を複数指定したい場合には`elif`節を合わせて使うことがあります。`elif`節は任意の数だけ繰り返すことができます。\n",
        "\n",
        "注意すべきなのは、(条件式がTrue/Falseとなったときに実行される)処理の前に**空白(スペース)を4つ入れなければならない**ということです。Pythonではこれを**インデント**と呼んでいます。適切にインデントが挿入されていないとエラーとなります。"
      ]
    },
    {
      "cell_type": "markdown",
      "metadata": {
        "id": "phgWVYN1Q-YM"
      },
      "source": [
        "それでは例を見てみましょう。下の例では変数`x`の絶対値を計算し、その結果を`y`に格納しています。"
      ]
    },
    {
      "cell_type": "code",
      "execution_count": 27,
      "metadata": {
        "id": "6gOTTDZnQ-YM",
        "colab": {
          "base_uri": "https://localhost:8080/"
        },
        "outputId": "90f13263-e968-4ead-f5c2-3659159312fd"
      },
      "outputs": [
        {
          "output_type": "execute_result",
          "data": {
            "text/plain": [
              "1"
            ]
          },
          "metadata": {},
          "execution_count": 27
        }
      ],
      "source": [
        "x = -1\n",
        "if (x < 0):\n",
        "    y = - x\n",
        "else:\n",
        "    y = x\n",
        "y"
      ]
    },
    {
      "cell_type": "markdown",
      "metadata": {
        "id": "2qh0uOBcQ-YN"
      },
      "source": [
        "上では明示的に書きませんでしたが、複数の連続する処理を実行させることもできます。このとき、その処理すべての前にインデントを挿入する必要があります。プログラミングにおいて処理のまとまりのことを一般に**ブロック**と言いますが、Pythonではインデントが挿入されている部分をブロックとみなして処理しています。\n",
        "\n",
        "下の2つの例は似ているようですが全く異なるコードです。インデントに注目して動作を確認してみてください。"
      ]
    },
    {
      "cell_type": "code",
      "execution_count": 28,
      "metadata": {
        "id": "uPK0V9_PQ-YN",
        "colab": {
          "base_uri": "https://localhost:8080/"
        },
        "outputId": "5b5a5683-d923-4a3f-c376-14b3ae7b3e2d"
      },
      "outputs": [
        {
          "output_type": "execute_result",
          "data": {
            "text/plain": [
              "1"
            ]
          },
          "metadata": {},
          "execution_count": 28
        }
      ],
      "source": [
        "# 例1\n",
        "x = 1\n",
        "if (x < 0):\n",
        "    x = - x\n",
        "    x = - x\n",
        "x"
      ]
    },
    {
      "cell_type": "code",
      "execution_count": 29,
      "metadata": {
        "id": "NLcJixVwQ-YN",
        "colab": {
          "base_uri": "https://localhost:8080/"
        },
        "outputId": "dff4be5a-621a-4926-b3e2-ed838ff93ed8"
      },
      "outputs": [
        {
          "output_type": "execute_result",
          "data": {
            "text/plain": [
              "-1"
            ]
          },
          "metadata": {},
          "execution_count": 29
        }
      ],
      "source": [
        "# 例2\n",
        "x = 1\n",
        "if (x < 0):\n",
        "    x = - x\n",
        "x = - x\n",
        "x"
      ]
    },
    {
      "cell_type": "markdown",
      "metadata": {
        "id": "QleUfI1wQ-YN"
      },
      "source": [
        "### 0.2.5 ループ"
      ]
    },
    {
      "cell_type": "markdown",
      "metadata": {
        "id": "RgYBu2OYQ-YN"
      },
      "source": [
        "プログラムにおいて、同じような処理を繰り返し実行したい、ということはよくあります。例として1から10までの和を求めることを考えましょう。ここまでに学んだことを使って書けば下のようになります。"
      ]
    },
    {
      "cell_type": "code",
      "execution_count": 30,
      "metadata": {
        "id": "mTgS_wGXQ-YN",
        "colab": {
          "base_uri": "https://localhost:8080/"
        },
        "outputId": "90942201-f12a-40e9-daee-4d28b73f965c"
      },
      "outputs": [
        {
          "output_type": "execute_result",
          "data": {
            "text/plain": [
              "55"
            ]
          },
          "metadata": {},
          "execution_count": 30
        }
      ],
      "source": [
        "# 1から10までの和\n",
        "x = 0\n",
        "x = x + 1\n",
        "x = x + 2\n",
        "x = x + 3\n",
        "x = x + 4\n",
        "x = x + 5\n",
        "x = x + 6\n",
        "x = x + 7\n",
        "x = x + 8\n",
        "x = x + 9\n",
        "x = x + 10\n",
        "x"
      ]
    },
    {
      "cell_type": "markdown",
      "metadata": {
        "id": "U_5nxJKZQ-YN"
      },
      "source": [
        "確かに求めることはできますが、プログラムが長くなってしまいます。こういう場合には**ループ**を利用することで効率的にプログラミングをすることができます。では、ループを使ったプログラムを見てみましょう。"
      ]
    },
    {
      "cell_type": "code",
      "execution_count": 31,
      "metadata": {
        "id": "dDwMzACEQ-YN",
        "colab": {
          "base_uri": "https://localhost:8080/"
        },
        "outputId": "b22d3c39-a961-4fec-d8ef-d7d49f568c8e"
      },
      "outputs": [
        {
          "output_type": "execute_result",
          "data": {
            "text/plain": [
              "55"
            ]
          },
          "metadata": {},
          "execution_count": 31
        }
      ],
      "source": [
        "# 1から10までの和\n",
        "x = 0\n",
        "for n in range(1,11):\n",
        "    x = x + n\n",
        "x"
      ]
    },
    {
      "cell_type": "markdown",
      "metadata": {
        "id": "02rd1HtxQ-YO"
      },
      "source": [
        "ループを利用することによって、共通する部分の処理は1回だけ書けば良いことになります。"
      ]
    },
    {
      "cell_type": "markdown",
      "metadata": {
        "id": "gf2AvFixQ-YO"
      },
      "source": [
        "では、ループに関する文法を紹介します。Pythonでよく使われるループは2種類あり、`for`文と`while`文があります。フォーマットは以下の通りです。\n",
        "\n",
        "- `for`文\n",
        "\n",
        "```python\n",
        "for <変数> in <イテレータ>:\n",
        "    <処理>\n",
        "```\n",
        "\n",
        "- `while`文\n",
        "\n",
        "```python\n",
        "while <条件式>:\n",
        "    <(条件式がTrueの間だけ実行する)処理>\n",
        "```\n",
        "\n",
        "イテレータ(※)とは何らかのデータ系列を生成するようなものです。上の例で用いた`range(1,11)`は1, 2, ..., 10を生成しています。\n",
        "`for`文ではイテレータが生成するデータを順に変数に代入して処理を行う、ということを繰り返していきます。そして最後のデータまで処理したら`for`文を抜けます。上の例では、まず`n`に1を代入して`x = x + n`を計算し、次に`n`に2を代入して......最後に`n`に10を代入して計算したら`for`文を抜けます。\n",
        "\n",
        "※正確にはPythonにおける「反復可能オブジェクト」であればループを利用して要素を取り出すことができます。ここでは一般的な「イテレータ」を想定して説明しています。\n",
        "\n",
        "`while`文は条件式が`True`ならば処理を行い、`False`ならば(`while`文を)抜ける、という挙動をします。\n",
        "上の例を`while`文を使って書けば下のようになります。"
      ]
    },
    {
      "cell_type": "code",
      "execution_count": null,
      "metadata": {
        "id": "vF5UrkrLQ-YO",
        "colab": {
          "base_uri": "https://localhost:8080/"
        },
        "outputId": "75bad88a-db0b-470f-b435-fc8237dd4085"
      },
      "outputs": [
        {
          "output_type": "execute_result",
          "data": {
            "text/plain": [
              "55"
            ]
          },
          "metadata": {},
          "execution_count": 8
        }
      ],
      "source": [
        "x = 0\n",
        "n = 1\n",
        "while (n <= 10):\n",
        "    x = x + n\n",
        "    n = n + 1\n",
        "x"
      ]
    },
    {
      "cell_type": "markdown",
      "metadata": {
        "id": "JcTWveIoQ-YO"
      },
      "source": [
        "`while`文の処理を1回行うたびに`n`が1ずつ増えていくので、このループはちょうど10回まわることが確認できるでしょう。\n",
        "\n",
        "これら`for`文と`while`文は本質的に同じものです。すなわち、`for`文で実現できることは`while`文でも実現でき、逆もそうであるということです。とはいえ書きやすさは状況によって異なるので、それに応じて使いやすい方を使うのが良いと思います。\n",
        "\n",
        "ところで、`for`文・`while`文もインデントによってブロックを認識します。`if`文と同様インデントに注意しましょう。"
      ]
    },
    {
      "cell_type": "markdown",
      "metadata": {
        "id": "wBsYltFdQ-YO"
      },
      "source": [
        "ループは条件分岐と組み合わせて使うことがよくあります。例として1から10までの偶数の和を求めるプログラムを示します。偶数は2で割った剰余が0になることに注意してください。"
      ]
    },
    {
      "cell_type": "code",
      "execution_count": 32,
      "metadata": {
        "id": "jGTJNK9iQ-YO",
        "colab": {
          "base_uri": "https://localhost:8080/"
        },
        "outputId": "d29dd49b-0c71-46fa-e3a5-0f534fb63f27"
      },
      "outputs": [
        {
          "output_type": "execute_result",
          "data": {
            "text/plain": [
              "30"
            ]
          },
          "metadata": {},
          "execution_count": 32
        }
      ],
      "source": [
        "# 1から10までの偶数の和を求めるプログラム\n",
        "x = 0\n",
        "n = 1\n",
        "while (n <= 10):\n",
        "    if (n % 2 == 0):\n",
        "        x = x + n\n",
        "    n = n + 1\n",
        "x"
      ]
    },
    {
      "cell_type": "markdown",
      "metadata": {
        "id": "Xfg9ZZ1FQ-YO"
      },
      "source": [
        "### 0.2.6 関数"
      ]
    },
    {
      "cell_type": "markdown",
      "metadata": {
        "id": "_UgbfMOrQ-YO"
      },
      "source": [
        "プログラムを作成していると、以前作成したものを再度利用したいと思うことがあるかもしれません。**関数**を利用することで、その処理の流れに名前をつけて保存し、必要になったら呼び出すことができるようになります。\n",
        "\n",
        "フォーマットは以下の通りです。\n",
        "\n",
        "- 関数定義\n",
        "\n",
        "```python\n",
        "def <関数名>(<引数>, ...):\n",
        "    <関数内部の処理>\n",
        "```\n",
        "\n",
        "- 関数呼び出し\n",
        "\n",
        "```python\n",
        "<関数名>(<引数>, ...)\n",
        "```\n",
        "\n",
        "関数を呼び出すとき、0個以上の**引数**を渡します。関数内の処理ではこの引数の値を利用することができます。これだけでは理解しづらいと思うので、絶対値を求めるプログラムを例にとって具体的に説明します。\n",
        "\n",
        "ある`x`が与えられたとき、その絶対値`y`は下のプログラムを利用して求めることができます。これは以前作成したものと全く同じものです。"
      ]
    },
    {
      "cell_type": "code",
      "execution_count": 33,
      "metadata": {
        "id": "9tdABUZ0Q-YO",
        "colab": {
          "base_uri": "https://localhost:8080/"
        },
        "outputId": "727b1319-dad7-4a88-c92f-c6d7250e51ea"
      },
      "outputs": [
        {
          "output_type": "execute_result",
          "data": {
            "text/plain": [
              "1"
            ]
          },
          "metadata": {},
          "execution_count": 33
        }
      ],
      "source": [
        "# 絶対値を求めるプログラム\n",
        "x = -1\n",
        "if (x < 0):\n",
        "    y = - x\n",
        "else:\n",
        "    y = x\n",
        "y"
      ]
    },
    {
      "cell_type": "markdown",
      "metadata": {
        "id": "cLx0Jh8TQ-YP"
      },
      "source": [
        "この処理の流れを関数にしたいと思います。関数を利用するためには、まず関数を**定義**する必要があります。関数定義は下のようにします。"
      ]
    },
    {
      "cell_type": "code",
      "execution_count": null,
      "metadata": {
        "id": "FhHvslNWQ-YP"
      },
      "outputs": [],
      "source": [
        "# 絶対値を求める関数の定義\n",
        "def absolute(x):\n",
        "    if (x < 0):\n",
        "        y = - x\n",
        "    else:\n",
        "        y = x\n",
        "    return y"
      ]
    },
    {
      "cell_type": "markdown",
      "metadata": {
        "id": "f9J3xe7jQ-YP"
      },
      "source": [
        "ここで関数名は絶対値(absolute value)を意味する`absolute`としています。この関数を呼び出す(利用する)ときにはこの名前を使います。\n",
        "\n",
        "この`absolute`関数を呼び出してみます。関数を呼び出すときには引数を与える必要がありますが、これは定義したときと同じ個数である必要があります。"
      ]
    },
    {
      "cell_type": "code",
      "execution_count": null,
      "metadata": {
        "id": "AEw-9by7Q-YP",
        "colab": {
          "base_uri": "https://localhost:8080/"
        },
        "outputId": "1c154626-cec8-4458-ca1b-cfd25bf1a0be"
      },
      "outputs": [
        {
          "output_type": "execute_result",
          "data": {
            "text/plain": [
              "1"
            ]
          },
          "metadata": {},
          "execution_count": 12
        }
      ],
      "source": [
        "# 絶対値を求める関数の呼び出し\n",
        "absolute(-1)"
      ]
    },
    {
      "cell_type": "markdown",
      "metadata": {
        "id": "o417f1XMQ-YP"
      },
      "source": [
        "関数内の処理では引数の値を利用することができると言いましたが、より詳しく言えば「関数呼び出しのときに与えた引数が、関数定義のときに与えた引数のところにコピーされる」ということです。上の例では、関数呼び出しのときに-1を引数として与えていますが、それは関数定義したときに与えた引数`x`にコピーされています。\n",
        "\n",
        "プログラミングの用語では、関数定義のときに与えた引数のことを**仮引数**、関数呼び出しのときに与えた引数のことを**実引数**と呼んでいます。\n",
        "\n",
        "関数の評価値は、関数内部で`return`した値になります。これを**返り値**と言います。上の例では`y`が返り値となりますが、これが`x`の絶対値になっていることが確認できると思います。なお、`return`されない場合には関数の返り値は`None`になります。"
      ]
    },
    {
      "cell_type": "markdown",
      "metadata": {
        "id": "TMcgLRFLQ-YP"
      },
      "source": [
        "なお、複数の引数を持つ関数を定義することもできます。ただし、実引数の順は仮引数のそれに対応していることに注意してください。"
      ]
    },
    {
      "cell_type": "code",
      "execution_count": null,
      "metadata": {
        "id": "lMnXy223Q-YP"
      },
      "outputs": [],
      "source": [
        "# べき乗を求める関数\n",
        "def power(x, y):\n",
        "    return x ** y"
      ]
    },
    {
      "cell_type": "code",
      "execution_count": null,
      "metadata": {
        "id": "LI_wApmwQ-YP",
        "colab": {
          "base_uri": "https://localhost:8080/"
        },
        "outputId": "033e1ad1-3820-47e3-8b30-0c6a57d37bbd"
      },
      "outputs": [
        {
          "output_type": "execute_result",
          "data": {
            "text/plain": [
              "8"
            ]
          },
          "metadata": {},
          "execution_count": 14
        }
      ],
      "source": [
        "power(2, 3)"
      ]
    },
    {
      "cell_type": "code",
      "execution_count": null,
      "metadata": {
        "id": "bQIYIdD7Q-YP",
        "colab": {
          "base_uri": "https://localhost:8080/"
        },
        "outputId": "6de2c1e4-a9f0-46e1-c583-abb410f091b2"
      },
      "outputs": [
        {
          "output_type": "execute_result",
          "data": {
            "text/plain": [
              "9"
            ]
          },
          "metadata": {},
          "execution_count": 15
        }
      ],
      "source": [
        "power(3, 2)"
      ]
    },
    {
      "cell_type": "markdown",
      "metadata": {
        "id": "MjB4q71TQ-YQ"
      },
      "source": [
        "仮引数と実引数の対応を明示的に指定する場合には、`<仮引数>=<実引数>`という形式で指定します。この形式で渡す引数を**キーワード引数**と言います。それに対して、明示的には指定しない(実引数の順が仮引数のそれに対応していると仮定する)場合の引数を**位置引数**と呼ぶことがあります。"
      ]
    },
    {
      "cell_type": "code",
      "execution_count": null,
      "metadata": {
        "id": "VFzU_P15Q-YQ",
        "colab": {
          "base_uri": "https://localhost:8080/"
        },
        "outputId": "26543867-65bf-4300-b4e5-d510033ff139"
      },
      "outputs": [
        {
          "output_type": "execute_result",
          "data": {
            "text/plain": [
              "9"
            ]
          },
          "metadata": {},
          "execution_count": 16
        }
      ],
      "source": [
        "power(y=2, x=3)"
      ]
    },
    {
      "cell_type": "markdown",
      "metadata": {
        "id": "-ow9Q8aNQ-YQ"
      },
      "source": [
        "さらに、引数(の一部)に既定値を与えておき、その引数を省略可能とすることもできます。これを**デフォルト引数**と言います。関数呼び出しの際にその引数が省略された場合、既定値が使用されます。"
      ]
    },
    {
      "cell_type": "code",
      "execution_count": 36,
      "metadata": {
        "id": "X0Dw-W6uQ-YQ"
      },
      "outputs": [],
      "source": [
        "def power(x=1, y=2):\n",
        "    return x ** y"
      ]
    },
    {
      "cell_type": "code",
      "execution_count": 38,
      "metadata": {
        "id": "N_j8adBuQ-YQ",
        "colab": {
          "base_uri": "https://localhost:8080/"
        },
        "outputId": "3f815444-4696-43e4-b968-6377e30d8a59"
      },
      "outputs": [
        {
          "output_type": "execute_result",
          "data": {
            "text/plain": [
              "1"
            ]
          },
          "metadata": {},
          "execution_count": 38
        }
      ],
      "source": [
        "power()"
      ]
    },
    {
      "cell_type": "markdown",
      "metadata": {
        "id": "_xHLAO7rQ-YQ"
      },
      "source": [
        "### 0.2.7 データ型"
      ]
    },
    {
      "cell_type": "markdown",
      "metadata": {
        "id": "91N4pjHNQ-YQ"
      },
      "source": [
        "これまでは整数および真偽値を扱ってきましたが、それ以外にも様々なデータの種類があります。プログラミング言語におけるデータの種類のことを**データ型**と言います。Pythonでよく使われるデータ型は以下の通りです。\n",
        "\n",
        "- int型(整数)\n",
        "- float型(小数)\n",
        "- bool型(真偽値)\n",
        "- str型(文字列)\n",
        "- list型(リスト)\n",
        "- tuple型(タプル)\n",
        "- dict型(辞書)\n",
        "\n",
        "この節では`int`型および`bool`型以外のデータ型について簡単に説明します。"
      ]
    },
    {
      "cell_type": "markdown",
      "metadata": {
        "id": "a-XXRRTdQ-YQ"
      },
      "source": [
        "#### float型(小数)"
      ]
    },
    {
      "cell_type": "markdown",
      "metadata": {
        "id": "ph4LCCfKQ-YQ"
      },
      "source": [
        "float型はint型(整数)とほぼ同様の操作を行うことができます。"
      ]
    },
    {
      "cell_type": "code",
      "execution_count": null,
      "metadata": {
        "id": "6vg_uf4dQ-YR"
      },
      "outputs": [],
      "source": [
        "# 加算\n",
        "4.0 + 3.0"
      ]
    },
    {
      "cell_type": "code",
      "execution_count": null,
      "metadata": {
        "id": "CgCdfgtmQ-YR"
      },
      "outputs": [],
      "source": [
        "# 減算\n",
        "4.0 - 3.0"
      ]
    },
    {
      "cell_type": "code",
      "execution_count": null,
      "metadata": {
        "id": "WG7c6rmaQ-YR"
      },
      "outputs": [],
      "source": [
        "# 乗算\n",
        "4.0 * 3.0"
      ]
    },
    {
      "cell_type": "code",
      "execution_count": null,
      "metadata": {
        "id": "8bhmUG4gQ-YR"
      },
      "outputs": [],
      "source": [
        "# 除算(商)\n",
        "4.0 / 3.0"
      ]
    },
    {
      "cell_type": "code",
      "execution_count": null,
      "metadata": {
        "id": "2CoD7cgtQ-YR"
      },
      "outputs": [],
      "source": [
        "# 除算(剰余)\n",
        "4.0 % 3.0"
      ]
    },
    {
      "cell_type": "code",
      "execution_count": null,
      "metadata": {
        "id": "uzfxx88uQ-YR"
      },
      "outputs": [],
      "source": [
        "# 冪乗\n",
        "4.0 ** 3.0"
      ]
    },
    {
      "cell_type": "markdown",
      "metadata": {
        "id": "KococBr4Q-YR"
      },
      "source": [
        "int型・float型の値が混ざった式を計算することもできます。このとき、int型はfloat型に変換され、float型で計算されます。"
      ]
    },
    {
      "cell_type": "code",
      "execution_count": null,
      "metadata": {
        "id": "4seMaCpxQ-YR",
        "outputId": "36dd2de8-dc58-4970-98c1-9f849a3ba456",
        "colab": {
          "base_uri": "https://localhost:8080/"
        }
      },
      "outputs": [
        {
          "output_type": "execute_result",
          "data": {
            "text/plain": [
              "7.0"
            ]
          },
          "metadata": {},
          "execution_count": 1
        }
      ],
      "source": [
        "# int型・float型が混ざった式\n",
        "4 + 3.0"
      ]
    },
    {
      "cell_type": "markdown",
      "metadata": {
        "id": "nuf10TvXQ-YR"
      },
      "source": [
        "(浮動)小数の計算では、その性質上、誤差が発生することがあります。興味がある人は調べてみると良いでしょう。"
      ]
    },
    {
      "cell_type": "markdown",
      "metadata": {
        "id": "RO7OzquuQ-YS"
      },
      "source": [
        "#### str型(文字列)"
      ]
    },
    {
      "cell_type": "markdown",
      "metadata": {
        "id": "1q_JbAsfQ-YS"
      },
      "source": [
        "**文字列**はその名の通り、文字が並んだもののことです。Pythonでは`'...'`(シングルクオーテーション)または`\"...\"`(ダブルクオーテーション)で囲んだ部分が文字列となります。`'...'`で囲んだものと`\"...\"`で囲んだものは同じ文字列ですが、囲うことができる文字に違いがあります。(その違いについてはこの資料では扱いません。)"
      ]
    },
    {
      "cell_type": "code",
      "execution_count": null,
      "metadata": {
        "id": "bwStJ6ocQ-YS",
        "colab": {
          "base_uri": "https://localhost:8080/",
          "height": 36
        },
        "outputId": "923c7cd6-3c72-463d-85ec-455d78856074"
      },
      "outputs": [
        {
          "output_type": "execute_result",
          "data": {
            "text/plain": [
              "'abc'"
            ],
            "application/vnd.google.colaboratory.intrinsic+json": {
              "type": "string"
            }
          },
          "metadata": {},
          "execution_count": 19
        }
      ],
      "source": [
        "# 文字列\n",
        "\"abc\""
      ]
    },
    {
      "cell_type": "markdown",
      "metadata": {
        "id": "-t1SQT-8Q-YS"
      },
      "source": [
        "文字列に対する操作を見ていきましょう。\n",
        "まずは文字列の結合です。int型の加算と同じ記号`+`で文字列を結合することができます。"
      ]
    },
    {
      "cell_type": "code",
      "execution_count": null,
      "metadata": {
        "id": "o-zCjIY9Q-YS",
        "colab": {
          "base_uri": "https://localhost:8080/",
          "height": 36
        },
        "outputId": "dda64895-a2cd-45b9-f328-92d4bda0618b"
      },
      "outputs": [
        {
          "output_type": "execute_result",
          "data": {
            "text/plain": [
              "'abcdef'"
            ],
            "application/vnd.google.colaboratory.intrinsic+json": {
              "type": "string"
            }
          },
          "metadata": {},
          "execution_count": 20
        }
      ],
      "source": [
        "# 文字列の結合\n",
        "\"abc\" + 'def'"
      ]
    },
    {
      "cell_type": "markdown",
      "metadata": {
        "id": "BFwgD8SMQ-YS"
      },
      "source": [
        "文字列に含まれる文字の数を(文字列の)長さと言いますが、これを求める関数として`len`が用意されています。"
      ]
    },
    {
      "cell_type": "code",
      "execution_count": null,
      "metadata": {
        "id": "XfJq_P7lQ-YS",
        "colab": {
          "base_uri": "https://localhost:8080/"
        },
        "outputId": "1e70c14c-439f-4c60-c582-ae1dbd5c2949"
      },
      "outputs": [
        {
          "output_type": "execute_result",
          "data": {
            "text/plain": [
              "3"
            ]
          },
          "metadata": {},
          "execution_count": 21
        }
      ],
      "source": [
        "# 文字列の長さ\n",
        "len(\"abc\")"
      ]
    },
    {
      "cell_type": "markdown",
      "metadata": {
        "id": "xiO-D2cMQ-YS"
      },
      "source": [
        "#### list型(リスト)"
      ]
    },
    {
      "cell_type": "markdown",
      "metadata": {
        "id": "AdzpIVDxQ-YT"
      },
      "source": [
        "**リスト**は、複数の要素を集めたものです。他のプログラミング言語では**配列**と呼ばれることが多いです。Pythonでは`[<要素>, ...]`(角括弧)という形式でリストを作ることができます。"
      ]
    },
    {
      "cell_type": "code",
      "execution_count": null,
      "metadata": {
        "id": "I2M-631cQ-YT",
        "colab": {
          "base_uri": "https://localhost:8080/"
        },
        "outputId": "3f11a7b9-1bec-47ad-e359-3a9328ebf584"
      },
      "outputs": [
        {
          "output_type": "execute_result",
          "data": {
            "text/plain": [
              "[1, 2, 3]"
            ]
          },
          "metadata": {},
          "execution_count": 22
        }
      ],
      "source": [
        "# リスト\n",
        "[1, 2, 3]"
      ]
    },
    {
      "cell_type": "markdown",
      "metadata": {
        "id": "O4-8Z3dcQ-YT"
      },
      "source": [
        "リストに対する操作を見ていきましょう。\n",
        "リストの各要素には`<リスト名>[要素番号]`という形式でアクセスすることができます。この要素番号のことを**インデックス**と言い、**0から数え始めます**。"
      ]
    },
    {
      "cell_type": "code",
      "execution_count": null,
      "metadata": {
        "id": "Up-hHg-lQ-YT",
        "colab": {
          "base_uri": "https://localhost:8080/"
        },
        "outputId": "78602431-52d7-4599-fcfd-f7e70aac98a2"
      },
      "outputs": [
        {
          "output_type": "execute_result",
          "data": {
            "text/plain": [
              "1"
            ]
          },
          "metadata": {},
          "execution_count": 23
        }
      ],
      "source": [
        "# 要素の参照\n",
        "x = [1, 2, 3]\n",
        "x[0]"
      ]
    },
    {
      "cell_type": "markdown",
      "metadata": {
        "id": "m7xIlO-RQ-YT"
      },
      "source": [
        "要素を参照するだけではなく、新しい要素を代入することもできます。"
      ]
    },
    {
      "cell_type": "code",
      "execution_count": null,
      "metadata": {
        "id": "PRplLzOvQ-YT",
        "colab": {
          "base_uri": "https://localhost:8080/"
        },
        "outputId": "96f94c7d-b800-4388-800b-a3f7361da9be"
      },
      "outputs": [
        {
          "output_type": "execute_result",
          "data": {
            "text/plain": [
              "[10, 2, 3]"
            ]
          },
          "metadata": {},
          "execution_count": 24
        }
      ],
      "source": [
        "# 要素の代入\n",
        "x = [1, 2, 3]\n",
        "x[0] = 10\n",
        "x"
      ]
    },
    {
      "cell_type": "markdown",
      "metadata": {
        "id": "E62wFDGdQ-YT"
      },
      "source": [
        "一度に複数要素アクセスすることもできます。Pythonではこれを**スライス**と呼んでいます。`<リスト名>[開始位置:終了位置:増分]`という形式でアクセスします。デフォルトの開始位置は先頭、終了位置は末尾(の後ろ)、増分は1となっており、省略するとデフォルト値が使われます。スライスでアクセスしたとき、**終了位置は含まれない**ことに注意してください。"
      ]
    },
    {
      "cell_type": "code",
      "execution_count": null,
      "metadata": {
        "id": "zjD4uFqIQ-YT",
        "colab": {
          "base_uri": "https://localhost:8080/"
        },
        "outputId": "ad9ac9f5-1370-4615-8b8e-0572f81ac4a6"
      },
      "outputs": [
        {
          "output_type": "execute_result",
          "data": {
            "text/plain": [
              "[3, 4]"
            ]
          },
          "metadata": {},
          "execution_count": 25
        }
      ],
      "source": [
        "# スライス(参照)\n",
        "x = [1, 2, 3, 4, 5]\n",
        "x[2:4:1]"
      ]
    },
    {
      "cell_type": "markdown",
      "metadata": {
        "id": "ahN6afCEQ-YT"
      },
      "source": [
        "スライスに対して代入を行うこともできます。このとき、代入式の右辺はリストにするようにしてください。"
      ]
    },
    {
      "cell_type": "code",
      "execution_count": null,
      "metadata": {
        "id": "XrsVJpOlQ-YU",
        "colab": {
          "base_uri": "https://localhost:8080/"
        },
        "outputId": "50c26fdb-cba8-4bd2-dfe4-feda64d20a46"
      },
      "outputs": [
        {
          "output_type": "execute_result",
          "data": {
            "text/plain": [
              "[1, 2, 10, 20, 30, 5]"
            ]
          },
          "metadata": {},
          "execution_count": 26
        }
      ],
      "source": [
        "# スライス(代入)\n",
        "x = [1, 2, 3, 4, 5]\n",
        "x[2:4:1] = [10, 20, 30]\n",
        "x"
      ]
    },
    {
      "cell_type": "markdown",
      "metadata": {
        "id": "EhtYFR-GQ-YU"
      },
      "source": [
        "リストに含まれる要素の数を(リストの)長さと言いますが、これを求める関数として`len`が用意されています。"
      ]
    },
    {
      "cell_type": "code",
      "execution_count": null,
      "metadata": {
        "id": "CX-TI6O2Q-YU",
        "colab": {
          "base_uri": "https://localhost:8080/"
        },
        "outputId": "1e8d59d0-a54d-4b28-c41e-ffb7992e705c"
      },
      "outputs": [
        {
          "output_type": "execute_result",
          "data": {
            "text/plain": [
              "3"
            ]
          },
          "metadata": {},
          "execution_count": 27
        }
      ],
      "source": [
        "# リストの長さ\n",
        "len([1, 2, 3])"
      ]
    },
    {
      "cell_type": "markdown",
      "metadata": {
        "id": "cssO57g6Q-YU"
      },
      "source": [
        "リストを操作するにあたって`for`文などのループを利用することが多いです。例えばリストのすべての要素を2乗するプログラムは下のように書くことができます。"
      ]
    },
    {
      "cell_type": "code",
      "execution_count": null,
      "metadata": {
        "id": "EElFxTXJQ-YU",
        "colab": {
          "base_uri": "https://localhost:8080/"
        },
        "outputId": "62c39bb9-e4d4-44d9-fa50-8231cee1e46f"
      },
      "outputs": [
        {
          "output_type": "execute_result",
          "data": {
            "text/plain": [
              "[1, 4, 9, 16, 25]"
            ]
          },
          "metadata": {},
          "execution_count": 28
        }
      ],
      "source": [
        "# すべての要素を2乗するプログラム\n",
        "x = [1, 2, 3, 4, 5]\n",
        "for i in range(len(x)):\n",
        "    x[i] = x[i] ** 2\n",
        "x"
      ]
    },
    {
      "cell_type": "markdown",
      "metadata": {
        "id": "PrRSCZ8pQ-YU"
      },
      "source": [
        "#### tuple型(タプル)"
      ]
    },
    {
      "cell_type": "markdown",
      "metadata": {
        "id": "y5ElLedjQ-YU"
      },
      "source": [
        "タプルもリスト同様複数の要素を集めたもので、他のプログラミング言語では**組**と呼ばれています。Pythonでは`(<要素>, ...)`(丸括弧)という形式でタプルを作ることができます。"
      ]
    },
    {
      "cell_type": "code",
      "execution_count": null,
      "metadata": {
        "id": "Joe1d6SQQ-YU",
        "colab": {
          "base_uri": "https://localhost:8080/"
        },
        "outputId": "ddf9b1e4-7a8d-426d-c8d2-a1ed34f49803"
      },
      "outputs": [
        {
          "output_type": "execute_result",
          "data": {
            "text/plain": [
              "(1, 2, 3)"
            ]
          },
          "metadata": {},
          "execution_count": 29
        }
      ],
      "source": [
        "# タプル\n",
        "(1, 2, 3)"
      ]
    },
    {
      "cell_type": "markdown",
      "metadata": {
        "id": "m92-pjaAQ-YU"
      },
      "source": [
        "リストが**同じ種類のデータをまとめる**のに対して、タプルは**異なる種類のデータをまとめる**ことが多いです。データの構造が似ているため、リストと同じような操作を行うことができますが、微妙に異なる部分もあります。以下ではリストとの共通点と相違点を比較しながらタプルを学んでいきます。"
      ]
    },
    {
      "cell_type": "markdown",
      "metadata": {
        "id": "sSwAGJX8Q-YV"
      },
      "source": [
        "タプルではリスト同様に、インデックスを用いて要素にアクセスすることができます。"
      ]
    },
    {
      "cell_type": "code",
      "execution_count": null,
      "metadata": {
        "id": "kfA4FaxwQ-YV",
        "colab": {
          "base_uri": "https://localhost:8080/"
        },
        "outputId": "c0b43c43-c199-4103-a88a-f07003e31a48"
      },
      "outputs": [
        {
          "output_type": "execute_result",
          "data": {
            "text/plain": [
              "1"
            ]
          },
          "metadata": {},
          "execution_count": 30
        }
      ],
      "source": [
        "# 要素の参照\n",
        "x = (1, 2.0, \"3\")\n",
        "x[0]"
      ]
    },
    {
      "cell_type": "code",
      "execution_count": null,
      "metadata": {
        "id": "IMwgD7fSQ-YV",
        "colab": {
          "base_uri": "https://localhost:8080/"
        },
        "outputId": "77f002a6-f47d-4caa-9de1-d4112ce81f73"
      },
      "outputs": [
        {
          "output_type": "execute_result",
          "data": {
            "text/plain": [
              "(1, 2.0)"
            ]
          },
          "metadata": {},
          "execution_count": 31
        }
      ],
      "source": [
        "# スライス(参照)\n",
        "x = (1, 2.0, \"3\")\n",
        "x[0:2]"
      ]
    },
    {
      "cell_type": "markdown",
      "metadata": {
        "id": "Qsfi87D5Q-YV"
      },
      "source": [
        "しかし、タプルに要素を代入することはできません。要素を追加したり削除したりすることも認められていません。リストは変更可能である(**mutable**である)のに対し、タプルは変更不能である(**immutable**である)ことに注意しましょう。"
      ]
    },
    {
      "cell_type": "markdown",
      "metadata": {
        "id": "eS04vn8XQ-YV"
      },
      "source": [
        "実はタプルを生成するのに丸括弧を省略することができます。よって下の2つの例は同じコードとみなすことができます。"
      ]
    },
    {
      "cell_type": "code",
      "execution_count": 39,
      "metadata": {
        "id": "Thd1ZVCvQ-YV",
        "colab": {
          "base_uri": "https://localhost:8080/"
        },
        "outputId": "6e64c644-1152-4509-d9f5-3e312b2cc3e2"
      },
      "outputs": [
        {
          "output_type": "execute_result",
          "data": {
            "text/plain": [
              "1"
            ]
          },
          "metadata": {},
          "execution_count": 39
        }
      ],
      "source": [
        "# 例1\n",
        "(x, y, z) = (1, 2.0, \"3\")\n",
        "x"
      ]
    },
    {
      "cell_type": "code",
      "execution_count": 40,
      "metadata": {
        "id": "i4F3wdS-Q-YV",
        "colab": {
          "base_uri": "https://localhost:8080/"
        },
        "outputId": "963e5e61-9afb-4700-df0f-96d394653ba2"
      },
      "outputs": [
        {
          "output_type": "execute_result",
          "data": {
            "text/plain": [
              "1"
            ]
          },
          "metadata": {},
          "execution_count": 40
        }
      ],
      "source": [
        "# 例2\n",
        "x, y, z = 1, 2.0, \"3\"\n",
        "x"
      ]
    },
    {
      "cell_type": "markdown",
      "metadata": {
        "id": "rAKhwjTuQ-YV"
      },
      "source": [
        "例2は複数の値を複数の変数にそれぞれ代入していると考えることもできます。これを**多重代入**と言います。関連する用語に**パック**や**アンパック**というものがありますが、ここでは用語の紹介に留めておきます。より発展的な内容を学びたい人は調べてみると良いでしょう。"
      ]
    },
    {
      "cell_type": "markdown",
      "metadata": {
        "id": "sYl--hUwQ-YV"
      },
      "source": [
        "#### dict型(辞書)"
      ]
    },
    {
      "cell_type": "markdown",
      "metadata": {
        "id": "bLrvmhMSQ-YW"
      },
      "source": [
        "辞書はリストの各要素に**キー**と呼ばれるラベルをつけたもので、他のプログラミング言語では**連想配列**と呼ばれています。Pythonでは`{ <キー>: <値>, ...}`という形式で辞書を作ることができます。"
      ]
    },
    {
      "cell_type": "code",
      "execution_count": null,
      "metadata": {
        "id": "0bbEV3SUQ-YW",
        "colab": {
          "base_uri": "https://localhost:8080/"
        },
        "outputId": "3124ff62-b184-4ba7-aa6d-35908405974f"
      },
      "outputs": [
        {
          "output_type": "execute_result",
          "data": {
            "text/plain": [
              "{'a': 1, 'b': 2, 'c': 3}"
            ]
          },
          "metadata": {},
          "execution_count": 34
        }
      ],
      "source": [
        "# 辞書\n",
        "{\"a\": 1, \"b\": 2, \"c\": 3}"
      ]
    },
    {
      "cell_type": "markdown",
      "metadata": {
        "id": "7VykTOOzQ-YW"
      },
      "source": [
        "リストではインデックスによって各要素にアクセスしていたのに対し、辞書ではキーを使って値にアクセスします。リストと同様に、要素の参照および代入を行うことができます。"
      ]
    },
    {
      "cell_type": "code",
      "execution_count": null,
      "metadata": {
        "id": "8YPyLxOqQ-YW",
        "colab": {
          "base_uri": "https://localhost:8080/"
        },
        "outputId": "63ca3d0b-5358-465f-dea9-7854feda7748"
      },
      "outputs": [
        {
          "output_type": "execute_result",
          "data": {
            "text/plain": [
              "1"
            ]
          },
          "metadata": {},
          "execution_count": 35
        }
      ],
      "source": [
        "# 要素の参照\n",
        "x = {\"a\": 1, \"b\": 2, \"c\": 3}\n",
        "x[\"a\"]"
      ]
    },
    {
      "cell_type": "code",
      "execution_count": null,
      "metadata": {
        "id": "svdpMNguQ-YW",
        "colab": {
          "base_uri": "https://localhost:8080/"
        },
        "outputId": "23f6a6c9-2761-439d-9c35-298f46979442"
      },
      "outputs": [
        {
          "output_type": "execute_result",
          "data": {
            "text/plain": [
              "{'a': 1, 'b': 10, 'c': 3}"
            ]
          },
          "metadata": {},
          "execution_count": 36
        }
      ],
      "source": [
        "# 要素の代入\n",
        "x = {\"a\": 1, \"b\": 2, \"c\": 3}\n",
        "x[\"b\"] = 10\n",
        "x"
      ]
    },
    {
      "cell_type": "markdown",
      "metadata": {
        "id": "wFOghoToQ-YW"
      },
      "source": [
        "なお、辞書にないキーに対して代入を行うと、それが新しいキーとして登録されます。"
      ]
    },
    {
      "cell_type": "code",
      "execution_count": null,
      "metadata": {
        "id": "4ptDXzSAQ-YW",
        "colab": {
          "base_uri": "https://localhost:8080/"
        },
        "outputId": "e2598ef5-9375-4f6c-f6ed-cdfe1741a493"
      },
      "outputs": [
        {
          "output_type": "execute_result",
          "data": {
            "text/plain": [
              "{'a': 1, 'b': 2, 'c': 3, 'd': 4}"
            ]
          },
          "metadata": {},
          "execution_count": 37
        }
      ],
      "source": [
        "# 要素の代入\n",
        "x = {\"a\": 1, \"b\": 2, \"c\": 3}\n",
        "x[\"d\"] = 4\n",
        "x"
      ]
    },
    {
      "cell_type": "markdown",
      "metadata": {
        "id": "S0Ius8vhQ-YW"
      },
      "source": [
        "辞書からキー全体を取得したり、要素全体を取得したりするための手段も用意されています。辞書の`keys`メソッドおよび`values`メソッドを利用します。(メソッドについては次項のクラスのところで学びます。)"
      ]
    },
    {
      "cell_type": "code",
      "execution_count": null,
      "metadata": {
        "id": "Duy-DfEDQ-YX",
        "colab": {
          "base_uri": "https://localhost:8080/"
        },
        "outputId": "7008f3d7-fd4f-4f1e-a373-4251739c2ef7"
      },
      "outputs": [
        {
          "output_type": "execute_result",
          "data": {
            "text/plain": [
              "dict_keys(['a', 'b', 'c'])"
            ]
          },
          "metadata": {},
          "execution_count": 38
        }
      ],
      "source": [
        "# キーの取得\n",
        "x = {\"a\": 1, \"b\": 2, \"c\": 3}\n",
        "x.keys()"
      ]
    },
    {
      "cell_type": "code",
      "execution_count": null,
      "metadata": {
        "id": "nlKmAxjuQ-YX",
        "colab": {
          "base_uri": "https://localhost:8080/"
        },
        "outputId": "db276dc9-f22d-441c-d899-33184a46ce16"
      },
      "outputs": [
        {
          "output_type": "execute_result",
          "data": {
            "text/plain": [
              "dict_values([1, 2, 3])"
            ]
          },
          "metadata": {},
          "execution_count": 39
        }
      ],
      "source": [
        "# 要素の取得\n",
        "x = {\"a\": 1, \"b\": 2, \"c\": 3}\n",
        "x.values()"
      ]
    },
    {
      "cell_type": "markdown",
      "metadata": {
        "id": "vIfblALkQ-YX"
      },
      "source": [
        "### 0.2.8 練習問題"
      ]
    },
    {
      "cell_type": "markdown",
      "metadata": {
        "id": "6EpZ1utBQ-YX"
      },
      "source": [
        "(1) 変数`x`に整数が格納されているとします。`x`が偶数ならば0、奇数ならば1を返すプログラムを作成してください。"
      ]
    },
    {
      "cell_type": "code",
      "execution_count": 18,
      "metadata": {
        "id": "oWZs1OFUQ-YX"
      },
      "outputs": [],
      "source": [
        "# 入力例\n",
        "x = 4"
      ]
    },
    {
      "cell_type": "code",
      "execution_count": 20,
      "metadata": {
        "id": "Ek6v0UlJQ-YX",
        "colab": {
          "base_uri": "https://localhost:8080/"
        },
        "outputId": "7898bd38-f170-49a6-8f04-4cfe5edfb121"
      },
      "outputs": [
        {
          "output_type": "execute_result",
          "data": {
            "text/plain": [
              "0"
            ]
          },
          "metadata": {},
          "execution_count": 20
        }
      ],
      "source": [
        "# write me!\n",
        "x % 2"
      ]
    },
    {
      "cell_type": "markdown",
      "metadata": {
        "id": "VpjCvhi6Q-YX"
      },
      "source": [
        "(2) 要素がすべて整数値であって、長さが1以上のリストが変数`x`に格納されているとします。`x`の要素の中で最も大きい要素を返すプログラムを作成してください。ただし、`max`関数などは使用せず、ループで実現してください。"
      ]
    },
    {
      "cell_type": "code",
      "execution_count": 25,
      "metadata": {
        "id": "PNrxgiSPQ-YY"
      },
      "outputs": [],
      "source": [
        "# 入力例\n",
        "x = [1, 2, 3]"
      ]
    },
    {
      "cell_type": "code",
      "execution_count": 29,
      "metadata": {
        "id": "T31eGDweQ-YY",
        "colab": {
          "base_uri": "https://localhost:8080/"
        },
        "outputId": "b2b8780b-4283-47df-b0e9-b66ae927607f"
      },
      "outputs": [
        {
          "output_type": "execute_result",
          "data": {
            "text/plain": [
              "3"
            ]
          },
          "metadata": {},
          "execution_count": 29
        }
      ],
      "source": [
        "# write me!\n",
        "max = 0\n",
        "for i in x:\n",
        "    if(i>max):\n",
        "        max=i\n",
        "\n",
        "max"
      ]
    },
    {
      "cell_type": "markdown",
      "metadata": {
        "id": "zXQKjy_-Q-YY"
      },
      "source": [
        "(3) 長さが1以上の文字列を引数`x`とし、`x`の最後の1文字を返す関数`f`を定義してください。"
      ]
    },
    {
      "cell_type": "code",
      "execution_count": 33,
      "metadata": {
        "id": "eTYwB8KkQ-YY",
        "colab": {
          "base_uri": "https://localhost:8080/"
        },
        "outputId": "6ff4f24b-48f8-46e9-dea5-af1b48bbc979"
      },
      "outputs": [
        {
          "output_type": "stream",
          "name": "stdout",
          "text": [
            "3\n"
          ]
        }
      ],
      "source": [
        "# write me!\n",
        "def f(x):\n",
        "    return x[-1]\n",
        "\n",
        "print(f(x))"
      ]
    },
    {
      "cell_type": "markdown",
      "metadata": {
        "id": "M0zaovn-Q-YY"
      },
      "source": [
        "(4) 辞書を引数`x`とし、`x`に格納されているキーの数を返す関数`f`を定義してください。"
      ]
    },
    {
      "cell_type": "code",
      "execution_count": 34,
      "metadata": {
        "id": "Q3crlp11Q-YY",
        "colab": {
          "base_uri": "https://localhost:8080/"
        },
        "outputId": "5fad6b25-2735-43d9-9747-b1bfc35e182b"
      },
      "outputs": [
        {
          "output_type": "execute_result",
          "data": {
            "text/plain": [
              "5"
            ]
          },
          "metadata": {},
          "execution_count": 34
        }
      ],
      "source": [
        "# 入力例\n",
        "x = {\"a\": 1, \"b\": 2, \"c\": 3, 'd':4, 'e':5}\n",
        "\n",
        "# write me!\n",
        "def f(x):\n",
        "    num_key = x.keys()\n",
        "    return len(num_key)\n",
        "\n",
        "f(x)"
      ]
    },
    {
      "cell_type": "markdown",
      "metadata": {
        "id": "UOAiQVDLQ-YY"
      },
      "source": [
        "(5) リストを引数`x`とし、`x`の要素を逆順に並べたリストを返す関数`f`を定義してください。ただし、`reversed`関数などは使用せず、ループやリストのスライスで実現してください。"
      ]
    },
    {
      "cell_type": "code",
      "execution_count": 47,
      "metadata": {
        "id": "ONwteVyaQ-YY",
        "colab": {
          "base_uri": "https://localhost:8080/"
        },
        "outputId": "ded50ae2-4447-4372-e004-e97f8bbb51bf"
      },
      "outputs": [
        {
          "output_type": "execute_result",
          "data": {
            "text/plain": [
              "[3, 2, 1]"
            ]
          },
          "metadata": {},
          "execution_count": 47
        }
      ],
      "source": [
        "# 入力例\n",
        "x = [1, 2, 3]\n",
        "\n",
        "# write me!\n",
        "def f(x):\n",
        "    y = []\n",
        "    for i in range(1,len(x)+1):\n",
        "        y.append(x[-i])\n",
        "    return y\n",
        "\n",
        "f(x)"
      ]
    },
    {
      "cell_type": "markdown",
      "metadata": {
        "id": "So-oQP-QQ-YY"
      },
      "source": [
        "## 0.3 Python文法(発展)"
      ]
    },
    {
      "cell_type": "markdown",
      "metadata": {
        "id": "16kjGxg_Q-YZ"
      },
      "source": [
        "### 0.3.1 クラス"
      ]
    },
    {
      "cell_type": "markdown",
      "metadata": {
        "id": "zTIi2mM0Q-YZ"
      },
      "source": [
        "Pythonでプログラミングをする上で知っておきたいのが**オブジェクト指向**の概念です。オブジェクト指向について理解するために、まずはオブジェクトという言葉の定義を見てみましょう。以下はPythonドキュメントからの引用です。\n",
        "\n",
        "> Python における オブジェクト (object) とは、データを抽象的に表したものです。Python プログラムにおけるデータは全て、オブジェクトまたはオブジェクト間の関係として表されます。(ある意味では、プログラムコードもまたオブジェクトとして表されます。これはフォン・ノイマン: Von Neumann の \"プログラム記憶方式コンピュータ: stored program computer\" のモデルに適合します。)\n",
        "<br><br>\n",
        "https://docs.python.org/ja/3.8/reference/datamodel.html\n",
        "\n",
        "すべてのオブジェクトには**型**が定義されており、それがオブジェクトに対して実行可能な操作を決めています。例えば`len`関数はリストに対しては実行可能ですが、数値に対しては実行可能ではありません。型はオブジェクトが生成されてから破壊されるまで変更することはできません。\n",
        "\n",
        "また、オブジェクトは**属性**と**メソッド**というものを持っています。属性はそのオブジェクトに固有な性質で、メソッドはそのオブジェクトに対する操作です。同じ型のオブジェクトではメソッドは共通していますが、属性はそれぞれ異なっています。\n",
        "オブジェクトについて考えるとき、現実世界の例を挙げると理解しやすいでしょう。例えば、「人間」をオブジェクトとして見たとき、「名前」「年齢」は属性であり、「歩く」「考える」という動作はメソッドであると考えることができます。\n",
        "\n",
        "オブジェクト指向とは、その名の通り「プログラムをオブジェクト中心に考える」というものです。オブジェクトに定義されたメソッドを通してオブジェクトを操作し、プログラムを構成していくものです。一口に「オブジェクト中心に考える」と言っても、その背景には**カプセル化**、**継承**、**ポリモーフィズム**といった概念があります。少し難しい内容が含まれているのでここでは説明しませんが、参考になる記事はたくさんあるので調べてみるといいと思います。"
      ]
    },
    {
      "cell_type": "markdown",
      "metadata": {
        "id": "bc7In1mdQ-YZ"
      },
      "source": [
        "それでは、オブジェクト指向の中心となる**クラス**の機能について見ていきましょう。\n",
        "\n",
        "クラスは新しいデータ型を定義するための設計図のようなものです。この設計図にはデータ型(属性)に関する定義とそのデータに対する処理(メソッド)に関する定義が書かれています。そして、この設計図をもとにオブジェクトを生成することができます。そのオブジェクトはクラス(設計図)に書かれていた属性・メソッドを持ち、メソッドを呼び出すことで自身または他のオブジェクトに影響を与えます。Pythonではクラスから生成されたオブジェクトのことを**インスタンス**と呼んでいます。\n",
        "\n",
        "クラス(設計図)の作り方は以下のようになります。\n",
        "\n",
        "```python\n",
        "class <クラス名>\n",
        "    def <メソッド名>:\n",
        "        <処理>\n",
        "    ......\n",
        "```"
      ]
    },
    {
      "cell_type": "code",
      "execution_count": null,
      "metadata": {
        "id": "PxtAUmB7Q-YZ"
      },
      "outputs": [],
      "source": [
        "# クラス定義の例\n",
        "class Klass:\n",
        "    def __init__(self):\n",
        "        self.attribute = None\n",
        "    def method(self, argument):\n",
        "        self.attribute = argument\n",
        "#     def __del__(self):\n",
        "#         print(\"delete\")"
      ]
    },
    {
      "cell_type": "code",
      "source": [
        "class Student :\n",
        "\n",
        "    def __init__ (self):\n",
        "       self.name = \"\"\n",
        "\n",
        "    def avg(self, math, english):\n",
        "        print((math + english)/2)\n",
        "        \n",
        "a001 = Student()\n",
        "a001.name = \"佐藤\"\n",
        "a001.avg(12,13)"
      ],
      "metadata": {
        "colab": {
          "base_uri": "https://localhost:8080/"
        },
        "id": "2zshL2zXpK8F",
        "outputId": "f7f89975-36fb-4a73-cf47-ad07a5c43ef3"
      },
      "execution_count": null,
      "outputs": [
        {
          "output_type": "stream",
          "name": "stdout",
          "text": [
            "12.5\n"
          ]
        }
      ]
    },
    {
      "cell_type": "markdown",
      "metadata": {
        "id": "2y8C6srJQ-YZ"
      },
      "source": [
        "上のクラス定義を使って説明します。クラス`Klass`は1つの(インスタンス)属性と3つの(インスタンス)メソッドが定義されています。`def`によって定義されているのがインスタンスメソッドです。その中にある`self.<名前>`というものがインスタンス属性です。この`self`は生成されたインスタンス自身を指しており、インスタンスメソッドはこれを第1引数としてとることが要求されます。\n",
        "`__init__`メソッドと`__del__`メソッドは特別な働きをするメソッドです。`__init__`メソッドはインスタンス生成時に実行されるメソッドで、**コンストラクタ**と呼ばれています。`__del__`メソッドはインスタンス破壊時に実行されるメソッドで、**デストラクタ**と呼ばれています。インスタンス属性を初期化するのにコンストラクタを利用するのが一般的です。それに対してデストラクタは定義しないことがほとんどです。\n",
        "\n",
        "次に、定義したクラスの利用例を以下に示します。インスタンスメソッドを定義するときには第1引数に`self`を与えましたが、呼び出すときにはその必要はない(厳密には`<インスタンス名>.<メソッド名>`で指定したインスタンスが`self`として与えられている)ということに注意しましょう。\n",
        "\n",
        "- インスタンスの生成　　　　　　　 `<クラス名>(<引数>......)`\n",
        "- インスタンス属性へのアクセス　　 `<インスタンス名>.<属性名>`\n",
        "- インスタンスメソッドへのアクセス `<インスタンス名>.<メソッド名>`"
      ]
    },
    {
      "cell_type": "code",
      "execution_count": null,
      "metadata": {
        "id": "YU34B8AhQ-Yh",
        "colab": {
          "base_uri": "https://localhost:8080/"
        },
        "outputId": "70de39a5-7c51-40f8-8757-fef20843375e"
      },
      "outputs": [
        {
          "output_type": "stream",
          "name": "stdout",
          "text": [
            "instance_a :  None\n",
            "instance_b :  None\n",
            "instance_a :  0\n",
            "instance_b :  None\n",
            "instance_a :  0\n",
            "instance_b :  1\n"
          ]
        }
      ],
      "source": [
        "# クラスの利用例\n",
        "instance_a = Klass()\n",
        "instance_b = Klass()\n",
        "print(\"instance_a : \", instance_a.attribute)\n",
        "print(\"instance_b : \", instance_b.attribute)\n",
        "\n",
        "instance_a.method(0)\n",
        "print(\"instance_a : \", instance_a.attribute)\n",
        "print(\"instance_b : \", instance_b.attribute)\n",
        "\n",
        "instance_b.method(1)\n",
        "print(\"instance_a : \", instance_a.attribute)\n",
        "print(\"instance_b : \", instance_b.attribute)"
      ]
    },
    {
      "cell_type": "markdown",
      "metadata": {
        "id": "TAhKAUHaQ-Yh"
      },
      "source": [
        "利用例から、属性は各インスタンスで独立であり、あるインスタンス`instance_b`の属性に対する変更は他のインスタンス`instance_a`に影響していないことがわかります。なお、メソッドを呼び出す前の`attribute`属性の値はコンストラクタで初期化されたものになっています。"
      ]
    },
    {
      "cell_type": "markdown",
      "metadata": {
        "id": "Oe5hgf_MQ-Yh"
      },
      "source": [
        "クラスの実用的な例としてカウンタを実装します。このように、内部状態を持つものについてはクラスで実装するのが良いでしょう。"
      ]
    },
    {
      "cell_type": "code",
      "execution_count": null,
      "metadata": {
        "id": "y9W94l0YQ-Yi",
        "colab": {
          "base_uri": "https://localhost:8080/"
        },
        "outputId": "f7afed9c-3a14-4071-f0e0-4355e56f4e04"
      },
      "outputs": [
        {
          "output_type": "execute_result",
          "data": {
            "text/plain": [
              "2"
            ]
          },
          "metadata": {},
          "execution_count": 43
        }
      ],
      "source": [
        "class Counter:\n",
        "    def __init__(self):\n",
        "        self.cnt = 0\n",
        "    def count(self):\n",
        "        self.cnt = self.cnt + 1\n",
        "    def get(self):\n",
        "        return self.cnt\n",
        "    def set(self, n):\n",
        "        self.cnt = n\n",
        "\n",
        "x = Counter()\n",
        "x.count()\n",
        "x.count()\n",
        "x.get()"
      ]
    },
    {
      "cell_type": "markdown",
      "metadata": {
        "id": "WbHDXhtUQ-Yi"
      },
      "source": [
        "前節で紹介したデータ型のオブジェクトは、Pythonであらかじめ定義されているクラスから生成されたものです。そのため、それぞれのデータ型に特有なメソッドを利用することができます。以下にその例を示します。"
      ]
    },
    {
      "cell_type": "code",
      "execution_count": 49,
      "metadata": {
        "id": "4UQIZtMGQ-Yi",
        "colab": {
          "base_uri": "https://localhost:8080/"
        },
        "outputId": "ea2ed600-3951-4c6a-bc86-76dfd662029d"
      },
      "outputs": [
        {
          "output_type": "execute_result",
          "data": {
            "text/plain": [
              "4"
            ]
          },
          "metadata": {},
          "execution_count": 49
        }
      ],
      "source": [
        "# 部分文字列の検索\n",
        "x = \"abcdefg\"\n",
        "x.find(\"e\")"
      ]
    },
    {
      "cell_type": "code",
      "execution_count": 50,
      "metadata": {
        "id": "eZ80zS0xQ-Yi",
        "colab": {
          "base_uri": "https://localhost:8080/",
          "height": 35
        },
        "outputId": "20cef9a0-9ca5-47f4-c95c-9c82e2f6ff18"
      },
      "outputs": [
        {
          "output_type": "execute_result",
          "data": {
            "text/plain": [
              "'a,b,c'"
            ],
            "application/vnd.google.colaboratory.intrinsic+json": {
              "type": "string"
            }
          },
          "metadata": {},
          "execution_count": 50
        }
      ],
      "source": [
        "# 文字列の結合\n",
        "x = [\"a\", \"b\", \"c\"]\n",
        "\",\".join(x)"
      ]
    },
    {
      "cell_type": "code",
      "execution_count": null,
      "metadata": {
        "id": "S6xnt1k-Q-Yi",
        "colab": {
          "base_uri": "https://localhost:8080/"
        },
        "outputId": "51a19e40-3beb-49e6-ded4-b04cbb91a893"
      },
      "outputs": [
        {
          "output_type": "execute_result",
          "data": {
            "text/plain": [
              "['a', 'b', 'c']"
            ]
          },
          "metadata": {},
          "execution_count": 46
        }
      ],
      "source": [
        "# 文字列の分割\n",
        "x = \"a,b,c\"\n",
        "x.split(\",\")"
      ]
    },
    {
      "cell_type": "code",
      "execution_count": null,
      "metadata": {
        "id": "alT-SJZAQ-Ym",
        "colab": {
          "base_uri": "https://localhost:8080/"
        },
        "outputId": "4d4459d9-d477-4a2c-cc28-cb134b95c0f8"
      },
      "outputs": [
        {
          "output_type": "execute_result",
          "data": {
            "text/plain": [
              "[1, 2, 3, 4]"
            ]
          },
          "metadata": {},
          "execution_count": 47
        }
      ],
      "source": [
        "# リストへの要素の追加\n",
        "x = [1, 2, 3]\n",
        "x.append(4)\n",
        "x"
      ]
    },
    {
      "cell_type": "code",
      "execution_count": null,
      "metadata": {
        "id": "pMc6WhiVQ-Yn",
        "colab": {
          "base_uri": "https://localhost:8080/"
        },
        "outputId": "6d2acdf1-037d-4d0b-c7fe-b749c6f67a7b"
      },
      "outputs": [
        {
          "output_type": "execute_result",
          "data": {
            "text/plain": [
              "[1, 2, 3, 4]"
            ]
          },
          "metadata": {},
          "execution_count": 48
        }
      ],
      "source": [
        "# リストのソート\n",
        "x = [2, 4, 1, 3]\n",
        "x.sort()\n",
        "x"
      ]
    },
    {
      "cell_type": "code",
      "execution_count": null,
      "metadata": {
        "id": "vKfUY_BnQ-Yn",
        "colab": {
          "base_uri": "https://localhost:8080/"
        },
        "outputId": "9e568a8e-8905-4a07-8903-fc9f245d32af"
      },
      "outputs": [
        {
          "output_type": "execute_result",
          "data": {
            "text/plain": [
              "[3, 2, 1]"
            ]
          },
          "metadata": {},
          "execution_count": 49
        }
      ],
      "source": [
        "# リストの反転\n",
        "x = [1, 2, 3]\n",
        "x.reverse()\n",
        "x"
      ]
    },
    {
      "cell_type": "code",
      "execution_count": null,
      "metadata": {
        "id": "A0U4P2XZQ-Yn",
        "colab": {
          "base_uri": "https://localhost:8080/"
        },
        "outputId": "78f7d99e-d756-407c-f639-ff6a3044ee1c"
      },
      "outputs": [
        {
          "output_type": "execute_result",
          "data": {
            "text/plain": [
              "dict_items([('a', 1), ('b', 2), ('c', 3)])"
            ]
          },
          "metadata": {},
          "execution_count": 50
        }
      ],
      "source": [
        "# 辞書のキー・値のペアの取得\n",
        "x = {\"a\": 1, \"b\": 2, \"c\": 3}\n",
        "x.items()"
      ]
    },
    {
      "cell_type": "markdown",
      "metadata": {
        "id": "jSRlUGrJQ-Yn"
      },
      "source": [
        "### 0.3.2 モジュール・ライブラリ"
      ]
    },
    {
      "cell_type": "markdown",
      "metadata": {
        "id": "bZRgizLRQ-Yn"
      },
      "source": [
        "プログラムを開発していると、他のプログラムファイルで定義した関数やクラスを使いたい、ということがあります。Pythonではそれを**モジュール**として取り込むことができます。モジュールは部品という意味で、通常1つのプログラムファイルを表します。\n",
        "\n",
        "モジュールを複数まとめたものを**パッケージ**と言い、さらにパッケージをまとめたものを**ライブラリ**と言います。この辺りの呼称は明確に決まっているわけではなく、モジュールやパッケージのことをライブラリと言うこともあるようです。以下では「モジュール」と「ライブラリ」という2つの用語を使いますが、それぞれ「1つのプログラムファイル」と「複数のプログラムファイルをまとめたもの」という意味であるとして読み進めてください。"
      ]
    },
    {
      "cell_type": "markdown",
      "metadata": {
        "id": "9bQVrMyDQ-Yn"
      },
      "source": [
        "Pythonでは`import`することでモジュールを読み込むことができます。(同じディレクトリ内に存在する)プログラムファイル名を`example.py`とすると、下のように書きます。"
      ]
    },
    {
      "cell_type": "markdown",
      "source": [
        "```python\n",
        "import example\n",
        "```"
      ],
      "metadata": {
        "id": "0p0x4Me6T_WM"
      }
    },
    {
      "cell_type": "markdown",
      "metadata": {
        "id": "VHExxxReQ-Yn"
      },
      "source": [
        "`import`すると、そのプログラムファイルで定義された関数やクラスを利用することができます。試しに`example.py`で定義されている関数`f`を呼び出してみましょう。この関数`f`は恒等関数で、1つの引数を受け取ってそれをそのまま返します。"
      ]
    },
    {
      "cell_type": "markdown",
      "source": [
        "```python\n",
        "example.f(2)\n",
        "```"
      ],
      "metadata": {
        "id": "SHsD0bDSU63m"
      }
    },
    {
      "cell_type": "markdown",
      "metadata": {
        "id": "e3VI2hI0Q-Yo"
      },
      "source": [
        "開発が進んでプログラムのサイズが大きくなってくると、それを細かい部品に分割して管理することが重要になります。機能ごとに関数およびクラスをまとめて別のファイルに切り出すことで、プログラムの見通しがよくなることが多いです。大きな開発をする際には心がけると良いでしょう。"
      ]
    },
    {
      "cell_type": "markdown",
      "metadata": {
        "id": "rQR80EipQ-Yo"
      },
      "source": [
        "続いてライブラリの話題に移ります。Pythonでは標準ライブラリというものが用意されており、様々な機能を利用することができます。標準ライブラリに含まれるモジュールの1つに、数学関数をまとめた`math`モジュールがあります。ここではそれを取り上げて説明します。"
      ]
    },
    {
      "cell_type": "markdown",
      "metadata": {
        "id": "4zdvL-_sQ-Yo"
      },
      "source": [
        "`math`モジュールには指数関数、対数関数、三角関数などが定義されており、それを`import`することで利用できるようになります。実際に利用するときには`<モジュール名>.<変数名/関数名/クラス名>`とします。"
      ]
    },
    {
      "cell_type": "code",
      "execution_count": 51,
      "metadata": {
        "id": "DWTiCcYAQ-Yo"
      },
      "outputs": [],
      "source": [
        "import math"
      ]
    },
    {
      "cell_type": "code",
      "execution_count": 52,
      "metadata": {
        "id": "3IDnuCk-Q-Yo",
        "colab": {
          "base_uri": "https://localhost:8080/"
        },
        "outputId": "bddd3cc5-63cf-4057-d162-b26637bf6a0e"
      },
      "outputs": [
        {
          "output_type": "execute_result",
          "data": {
            "text/plain": [
              "2.718281828459045"
            ]
          },
          "metadata": {},
          "execution_count": 52
        }
      ],
      "source": [
        "# 指数関数\n",
        "math.exp(1.0)"
      ]
    },
    {
      "cell_type": "code",
      "execution_count": 53,
      "metadata": {
        "id": "nSvew3waQ-Yo",
        "colab": {
          "base_uri": "https://localhost:8080/"
        },
        "outputId": "8b1dbe31-1c7c-41a7-86ba-743363d4583d"
      },
      "outputs": [
        {
          "output_type": "execute_result",
          "data": {
            "text/plain": [
              "1.0"
            ]
          },
          "metadata": {},
          "execution_count": 53
        }
      ],
      "source": [
        "# 対数関数\n",
        "math.log(math.e)"
      ]
    },
    {
      "cell_type": "markdown",
      "metadata": {
        "id": "mewMyuUtQ-Yo"
      },
      "source": [
        "`from <モジュール名> import <変数名/関数名/クラス名>`とすると、モジュール名なしに変数/関数/クラスを利用することができます。"
      ]
    },
    {
      "cell_type": "code",
      "execution_count": null,
      "metadata": {
        "id": "D-ymH1PzQ-Yo"
      },
      "outputs": [],
      "source": [
        "from math import sin\n",
        "from math import cos\n",
        "from math import tan\n",
        "from math import pi"
      ]
    },
    {
      "cell_type": "code",
      "execution_count": null,
      "metadata": {
        "id": "P_wQZOozQ-Yo",
        "colab": {
          "base_uri": "https://localhost:8080/"
        },
        "outputId": "650d5986-f275-46fd-d704-ff86ae48c56e"
      },
      "outputs": [
        {
          "output_type": "execute_result",
          "data": {
            "text/plain": [
              "1.2246467991473532e-16"
            ]
          },
          "metadata": {},
          "execution_count": 55
        }
      ],
      "source": [
        "# 三角関数\n",
        "sin(pi)"
      ]
    },
    {
      "cell_type": "code",
      "execution_count": null,
      "metadata": {
        "id": "7TtdXTFgQ-Yp",
        "colab": {
          "base_uri": "https://localhost:8080/"
        },
        "outputId": "3f0f15a4-f088-46ff-b1da-48bd6df963da"
      },
      "outputs": [
        {
          "output_type": "execute_result",
          "data": {
            "text/plain": [
              "-1.0"
            ]
          },
          "metadata": {},
          "execution_count": 56
        }
      ],
      "source": [
        "# 三角関数\n",
        "cos(pi)"
      ]
    },
    {
      "cell_type": "code",
      "execution_count": null,
      "metadata": {
        "id": "m7SD2wjxQ-Yp",
        "colab": {
          "base_uri": "https://localhost:8080/"
        },
        "outputId": "a840abff-daac-4049-870c-e342c4598a85"
      },
      "outputs": [
        {
          "output_type": "execute_result",
          "data": {
            "text/plain": [
              "-1.2246467991473532e-16"
            ]
          },
          "metadata": {},
          "execution_count": 57
        }
      ],
      "source": [
        "# 三角関数\n",
        "tan(pi)"
      ]
    },
    {
      "cell_type": "markdown",
      "metadata": {
        "id": "XabXK8SmQ-Yp"
      },
      "source": [
        "Pythonが提供している標準ライブラリ以外にも、様々なライブラリが開発されて一般に公開されています。こうしたライブラリのことを(標準ライブラリと区別して)外部ライブラリと呼んでいます。Pythonは外部ライブラリが最も充実している言語の1つです。特に本講義で扱うデータ分析・機械学習のためのライブラリが充実しているため、機械学習を行うときに用いるプログラミング言語としてPythonを選ぶ人は多いです。外部ライブラリについては次以降のChapterで学習します。"
      ]
    },
    {
      "cell_type": "markdown",
      "metadata": {
        "id": "uImuw--fQ-Yp"
      },
      "source": [
        "## 0.4 総合問題"
      ]
    },
    {
      "cell_type": "markdown",
      "metadata": {
        "id": "PF0OUE3yQ-Yp"
      },
      "source": [
        "(1) 与えられた自然数`n`に対して、それが素数であれば`True`、合成数であれば`False`を返す関数`is_prime`を定義してください。"
      ]
    },
    {
      "cell_type": "code",
      "execution_count": 72,
      "metadata": {
        "id": "95tm0RXrQ-Yp",
        "colab": {
          "base_uri": "https://localhost:8080/"
        },
        "outputId": "2d7d7770-92ec-4cc9-ee1f-f44c4bcfc8d5"
      },
      "outputs": [
        {
          "output_type": "execute_result",
          "data": {
            "text/plain": [
              "True"
            ]
          },
          "metadata": {},
          "execution_count": 72
        }
      ],
      "source": [
        "# write me!\n",
        "def is_prime(n):\n",
        "    if n == 1: return False\n",
        "    for i in range(2,int(n ** 0.5) + 1):\n",
        "        if n%i == 0:\n",
        "            return False\n",
        "    return True\n",
        "\n",
        "n = 239\n",
        "is_prime(n)"
      ]
    },
    {
      "cell_type": "markdown",
      "metadata": {
        "id": "n_Cgv9w8Q-Yp"
      },
      "source": [
        "(2) 与えられた自然数`n`以下の素数をリストとして返す関数`primes`を定義してください。(1)を利用しても構いません。"
      ]
    },
    {
      "cell_type": "code",
      "execution_count": 82,
      "metadata": {
        "id": "MjdlMH7tQ-Yp"
      },
      "outputs": [],
      "source": [
        "# write me!\n",
        "def primes(n):\n",
        "    s = []\n",
        "    for i in range(2, n+1):\n",
        "        if is_prime(i):\n",
        "            s.append(i)\n",
        "    return s"
      ]
    },
    {
      "cell_type": "code",
      "source": [
        "primes(n)"
      ],
      "metadata": {
        "colab": {
          "base_uri": "https://localhost:8080/"
        },
        "id": "aEyGkKZzqMO4",
        "outputId": "abebcc1d-2f51-4ca7-f886-8bd825676afa"
      },
      "execution_count": 83,
      "outputs": [
        {
          "output_type": "execute_result",
          "data": {
            "text/plain": [
              "[2,\n",
              " 3,\n",
              " 5,\n",
              " 7,\n",
              " 11,\n",
              " 13,\n",
              " 17,\n",
              " 19,\n",
              " 23,\n",
              " 29,\n",
              " 31,\n",
              " 37,\n",
              " 41,\n",
              " 43,\n",
              " 47,\n",
              " 53,\n",
              " 59,\n",
              " 61,\n",
              " 67,\n",
              " 71,\n",
              " 73,\n",
              " 79,\n",
              " 83,\n",
              " 89,\n",
              " 97,\n",
              " 101,\n",
              " 103,\n",
              " 107,\n",
              " 109,\n",
              " 113,\n",
              " 127,\n",
              " 131,\n",
              " 137,\n",
              " 139,\n",
              " 149,\n",
              " 151,\n",
              " 157,\n",
              " 163,\n",
              " 167,\n",
              " 173,\n",
              " 179,\n",
              " 181,\n",
              " 191,\n",
              " 193,\n",
              " 197,\n",
              " 199,\n",
              " 211,\n",
              " 223,\n",
              " 227,\n",
              " 229,\n",
              " 233,\n",
              " 239]"
            ]
          },
          "metadata": {},
          "execution_count": 83
        }
      ]
    },
    {
      "cell_type": "code",
      "source": [],
      "metadata": {
        "id": "dq7_E36ZqOp8"
      },
      "execution_count": null,
      "outputs": []
    }
  ],
  "metadata": {
    "kernelspec": {
      "display_name": "Python 3",
      "language": "python",
      "name": "python3"
    },
    "language_info": {
      "codemirror_mode": {
        "name": "ipython",
        "version": 3
      },
      "file_extension": ".py",
      "mimetype": "text/x-python",
      "name": "python",
      "nbconvert_exporter": "python",
      "pygments_lexer": "ipython3",
      "version": "3.7.6"
    },
    "colab": {
      "provenance": [],
      "collapsed_sections": [
        "RO7OzquuQ-YS",
        "sYl--hUwQ-YV"
      ],
      "include_colab_link": true
    }
  },
  "nbformat": 4,
  "nbformat_minor": 0
}